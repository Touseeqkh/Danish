{
 "cells": [
  {
   "cell_type": "markdown",
   "id": "cae23cd9",
   "metadata": {},
   "source": [
    "## Project Template"
   ]
  },
  {
   "cell_type": "code",
   "execution_count": 2,
   "id": "661c4510",
   "metadata": {},
   "outputs": [
    {
     "name": "stderr",
     "output_type": "stream",
     "text": [
      "Ivy Default Cache set to: /root/.ivy2/cache\n",
      "The jars for the packages stored in: /root/.ivy2/jars\n",
      ":: loading settings :: url = jar:file:/usr/local/lib/python3.9/dist-packages/pyspark/jars/ivy-2.4.0.jar!/org/apache/ivy/core/settings/ivysettings.xml\n",
      "org.apache.spark#spark-sql-kafka-0-10_2.12 added as a dependency\n",
      ":: resolving dependencies :: org.apache.spark#spark-submit-parent-4793de89-4ca8-45b3-a987-150761bdc39d;1.0\n",
      "\tconfs: [default]\n",
      "\tfound org.apache.spark#spark-sql-kafka-0-10_2.12;3.0.0 in central\n",
      "\tfound org.apache.spark#spark-token-provider-kafka-0-10_2.12;3.0.0 in central\n",
      "\tfound org.apache.kafka#kafka-clients;2.4.1 in central\n",
      "\tfound com.github.luben#zstd-jni;1.4.4-3 in central\n",
      "\tfound org.lz4#lz4-java;1.7.1 in central\n",
      "\tfound org.xerial.snappy#snappy-java;1.1.7.5 in central\n",
      "\tfound org.slf4j#slf4j-api;1.7.30 in central\n",
      "\tfound org.spark-project.spark#unused;1.0.0 in central\n",
      "\tfound org.apache.commons#commons-pool2;2.6.2 in central\n",
      ":: resolution report :: resolve 1744ms :: artifacts dl 24ms\n",
      "\t:: modules in use:\n",
      "\tcom.github.luben#zstd-jni;1.4.4-3 from central in [default]\n",
      "\torg.apache.commons#commons-pool2;2.6.2 from central in [default]\n",
      "\torg.apache.kafka#kafka-clients;2.4.1 from central in [default]\n",
      "\torg.apache.spark#spark-sql-kafka-0-10_2.12;3.0.0 from central in [default]\n",
      "\torg.apache.spark#spark-token-provider-kafka-0-10_2.12;3.0.0 from central in [default]\n",
      "\torg.lz4#lz4-java;1.7.1 from central in [default]\n",
      "\torg.slf4j#slf4j-api;1.7.30 from central in [default]\n",
      "\torg.spark-project.spark#unused;1.0.0 from central in [default]\n",
      "\torg.xerial.snappy#snappy-java;1.1.7.5 from central in [default]\n",
      "\t---------------------------------------------------------------------\n",
      "\t|                  |            modules            ||   artifacts   |\n",
      "\t|       conf       | number| search|dwnlded|evicted|| number|dwnlded|\n",
      "\t---------------------------------------------------------------------\n",
      "\t|      default     |   9   |   0   |   0   |   0   ||   9   |   0   |\n",
      "\t---------------------------------------------------------------------\n",
      ":: retrieving :: org.apache.spark#spark-submit-parent-4793de89-4ca8-45b3-a987-150761bdc39d\n",
      "\tconfs: [default]\n",
      "\t0 artifacts copied, 9 already retrieved (0kB/25ms)\n",
      "24/12/04 20:07:41 WARN NativeCodeLoader: Unable to load native-hadoop library for your platform... using builtin-java classes where applicable\n",
      "Using Spark's default log4j profile: org/apache/spark/log4j-defaults.properties\n",
      "Setting default log level to \"WARN\".\n",
      "To adjust logging level use sc.setLogLevel(newLevel). For SparkR, use setLogLevel(newLevel).\n"
     ]
    }
   ],
   "source": [
    "from pyspark.sql.functions import explode\n",
    "from pyspark.sql.functions import split\n",
    "\n",
    "from pyspark.context import SparkContext\n",
    "from pyspark.conf import SparkConf\n",
    "from pyspark.sql.session import SparkSession\n",
    "from pyspark.sql.functions import col\n",
    "\n",
    "spark = SparkSession.builder \\\n",
    "    .appName(\"MyApp\") \\\n",
    "    .config(\"spark.jars.packages\", 'org.apache.spark:spark-sql-kafka-0-10_2.12:3.0.0') \\\n",
    "    .config(\"spark.sql.repl.eagerEval.enabled\", True) \\\n",
    "    .getOrCreate()\n"
   ]
  },
  {
   "cell_type": "markdown",
   "id": "a896eb4a",
   "metadata": {},
   "source": [
    "Be sure to start the stream on Kafka!"
   ]
  },
  {
   "cell_type": "code",
   "execution_count": 3,
   "id": "432d001e",
   "metadata": {},
   "outputs": [],
   "source": [
    "from pyspark.sql.types import StructType, StructField, StringType, IntegerType, DoubleType, BooleanType, TimestampType, DateType\n",
    "\n",
    "schema = StructType(\n",
    "      [\n",
    "        StructField(\"name\", StringType(), False),\n",
    "        StructField(\"price\", DoubleType(), False),\n",
    "        StructField(\"timestamp\", TimestampType(), False),\n",
    "      ]\n",
    "    )"
   ]
  },
  {
   "cell_type": "code",
   "execution_count": 4,
   "id": "64df9575",
   "metadata": {},
   "outputs": [],
   "source": [
    "kafka_server = \"kafka1:9092\"   \n",
    "from pyspark.sql.functions import from_json\n",
    "\n",
    "lines = (spark.readStream                        # Get the DataStreamReader\n",
    "  .format(\"kafka\")                                 # Specify the source format as \"kafka\"\n",
    "  .option(\"kafka.bootstrap.servers\", kafka_server) # Configure the Kafka server name and port\n",
    "  .option(\"subscribe\", \"stock\")                       # Subscribe to the \"en\" Kafka topic \n",
    "  .option(\"startingOffsets\", \"earliest\")           # The start point when a query is started\n",
    "  .option(\"maxOffsetsPerTrigger\", 100)             # Rate limit on max offsets per trigger interval\n",
    "  .load()\n",
    "  .select(from_json(col(\"value\").cast(\"string\"), schema).alias(\"parsed_value\"))\n",
    "# Load the DataFrame\n",
    ")\n",
    "df = lines.select(\"parsed_value.*\")\n"
   ]
  },
  {
   "cell_type": "markdown",
   "id": "51735133",
   "metadata": {},
   "source": [
    "## The assignment starts here\n",
    "\n"
   ]
  },
  {
   "cell_type": "markdown",
   "id": "317c90b3",
   "metadata": {},
   "source": [
    "## Select the N most valuable stocks in a window (TASK 1)"
   ]
  },
  {
   "cell_type": "code",
   "execution_count": null,
   "id": "5c2230e0",
   "metadata": {},
   "outputs": [],
   "source": [
    "!pip install matplotlib\n",
    "!pip install seaborn\n",
    "!pip install dataframe-image"
   ]
  },
  {
   "cell_type": "code",
   "execution_count": 4,
   "id": "d0b2e809",
   "metadata": {},
   "outputs": [],
   "source": [
    "import time\n",
    "from pyspark.sql.streaming import StreamingQueryException\n",
    "# Visualization code\n",
    "import matplotlib.pyplot as plt\n",
    "import seaborn as sns\n",
    "from pyspark.sql import SparkSession\n",
    "from pyspark.sql.functions import window, col\n",
    "from pyspark.sql import functions as F"
   ]
  },
  {
   "cell_type": "code",
   "execution_count": 6,
   "id": "77d5ea64",
   "metadata": {
    "scrolled": true
   },
   "outputs": [
    {
     "name": "stderr",
     "output_type": "stream",
     "text": [
      "24/12/04 19:31:13 WARN StreamingQueryManager: Temporary checkpoint location created which is deleted normally when the query didn't fail: /tmp/temporary-eaacd8c8-2715-4f83-9f7c-8d502e6c5183. If it's required to delete it under any circumstances, please set spark.sql.streaming.forceDeleteTempCheckpointLocation to true. Important to know deleting temp checkpoint folder is best effort.\n",
      "[Stage 1:=====================================================> (196 + 4) / 200]\r"
     ]
    },
    {
     "name": "stdout",
     "output_type": "stream",
     "text": [
      "+------------------------------------------+----+---------+\n",
      "|window                                    |name|avg_price|\n",
      "+------------------------------------------+----+---------+\n",
      "|[2024-12-02 15:25:00, 2024-12-02 15:30:00]|AZO |384.01   |\n",
      "|[2024-12-02 15:25:00, 2024-12-02 15:30:00]|ISRG|192.6465 |\n",
      "|[2024-12-02 15:30:00, 2024-12-02 15:35:00]|RE  |128.37   |\n",
      "|[2024-12-02 15:30:00, 2024-12-02 15:35:00]|PXD |126.345  |\n",
      "|[2024-12-02 15:25:00, 2024-12-02 15:30:00]|CMI |119.79   |\n",
      "|[2024-12-02 15:25:00, 2024-12-02 15:30:00]|KMB |90.08    |\n",
      "|[2024-12-02 15:25:00, 2024-12-02 15:30:00]|LH  |90.065   |\n",
      "|[2024-12-02 15:30:00, 2024-12-02 15:35:00]|ACN |77.0     |\n",
      "|[2024-12-02 15:30:00, 2024-12-02 15:35:00]|VTR |72.1     |\n",
      "|[2024-12-02 15:30:00, 2024-12-02 15:35:00]|ARE |71.155   |\n",
      "+------------------------------------------+----+---------+\n",
      "\n"
     ]
    },
    {
     "name": "stderr",
     "output_type": "stream",
     "text": [
      "                                                                                \r"
     ]
    }
   ],
   "source": [
    "# Group the data by a 20-minute window and stock name, and calculate the average price\n",
    "windowedDF = df.groupBy(\n",
    "    window(col(\"timestamp\"), \"5 minutes\"),\n",
    "    \"name\"\n",
    ").avg(\"price\").withColumnRenamed(\"avg(price)\", \"avg_price\")\n",
    "\n",
    "# Now, since you want the 5 most valuable stocks, we will have to do a ranking\n",
    "# For streaming DataFrame, we would need to write the results in update mode to a query sink that supports updates (like a memory sink or a Delta table)\n",
    "\n",
    "# We need to define an aggregation query\n",
    "topStocksQuery = windowedDF \\\n",
    "    .writeStream \\\n",
    "    .outputMode(\"complete\") \\\n",
    "    .format(\"console\") \\\n",
    "    .foreachBatch(lambda df, epoch_id: df.orderBy(F.desc(\"avg_price\")).limit(10).show(truncate=False)) \\\n",
    "    .start()\n",
    "\n",
    "topStocksQuery.awaitTermination(timeout=5)\n",
    "topStocksQuery.stop()\n"
   ]
  },
  {
   "cell_type": "code",
   "execution_count": 7,
   "id": "7a25ca9e",
   "metadata": {},
   "outputs": [
    {
     "name": "stderr",
     "output_type": "stream",
     "text": [
      "24/12/04 19:31:53 WARN StreamingQueryManager: Temporary checkpoint location created which is deleted normally when the query didn't fail: /tmp/temporary-b3af5190-9330-42ed-b873-3c7965eb90a0. If it's required to delete it under any circumstances, please set spark.sql.streaming.forceDeleteTempCheckpointLocation to true. Important to know deleting temp checkpoint folder is best effort.\n",
      "                                                                                \r"
     ]
    },
    {
     "data": {
      "image/png": "[encoded data removed]",
      "text/plain": [
       "<Figure size 1200x600 with 1 Axes>"
      ]
     },
     "metadata": {},
     "output_type": "display_data"
    }
   ],
   "source": [
    "# Step 2: Define the streaming query to process top 10 stocks by average price\n",
    "def process_batch(batch_df, epoch_id):\n",
    "    # Order by avg_price and limit to top 10\n",
    "    pandas_df = batch_df.orderBy(F.desc(\"avg_price\")).limit(10).toPandas()\n",
    "\n",
    "    # Step 3: Create a plot from the Pandas DataFrame\n",
    "    if not pandas_df.empty:\n",
    "        # Extract data for plotting\n",
    "        names = pandas_df[\"name\"]\n",
    "        avg_prices = pandas_df[\"avg_price\"]\n",
    "\n",
    "        # Create visualization\n",
    "        plt.figure(figsize=(12, 6))\n",
    "        bars = plt.bar(names, avg_prices, color=\"skyblue\")\n",
    "        plt.title(\"Top 10 Most Valuable Stocks\", fontsize=14, pad=20)\n",
    "        plt.xlabel(\"Stock Name\", fontsize=12)\n",
    "        plt.ylabel(\"Average Price ($)\", fontsize=12)\n",
    "        plt.xticks(rotation=45)\n",
    "\n",
    "        # Add value labels on top of the bars\n",
    "        for bar in bars:\n",
    "            height = bar.get_height()\n",
    "            plt.text(\n",
    "                bar.get_x() + bar.get_width() / 2.0,\n",
    "                height,\n",
    "                f\"${height:.2f}\",\n",
    "                ha=\"center\",\n",
    "                va=\"bottom\",\n",
    "            )\n",
    "\n",
    "        plt.tight_layout()\n",
    "        plt.show()\n",
    "    else:\n",
    "        print(\"No data available for visualization.\")\n",
    "\n",
    "# Step 4: Write the streaming query\n",
    "topStocksQuery = windowedDF.writeStream \\\n",
    "    .outputMode(\"complete\") \\\n",
    "    .format(\"console\") \\\n",
    "    .foreachBatch(process_batch) \\\n",
    "    .start()\n",
    "\n",
    "# Step 5: Await termination (adjust timeout as needed)\n",
    "topStocksQuery.awaitTermination(timeout=10)\n",
    "topStocksQuery.stop()\n"
   ]
  },
  {
   "cell_type": "markdown",
   "id": "b8bdea39",
   "metadata": {},
   "source": [
    "## Select the stocks that lost value between two windows (TASK 2)"
   ]
  },
  {
   "cell_type": "code",
   "execution_count": 26,
   "id": "a369ce23",
   "metadata": {},
   "outputs": [
    {
     "name": "stdout",
     "output_type": "stream",
     "text": [
      "root\n",
      " |-- name: string (nullable = true)\n",
      " |-- avg_price: long (nullable = true)\n",
      " |-- normalized_avg_price: double (nullable = true)\n",
      "\n"
     ]
    }
   ],
   "source": [
    "df.printSchema()\n"
   ]
  },
  {
   "cell_type": "code",
   "execution_count": null,
   "id": "1e46a538",
   "metadata": {},
   "outputs": [
    {
     "name": "stderr",
     "output_type": "stream",
     "text": [
      "                                                                                \r"
     ]
    },
    {
     "name": "stdout",
     "output_type": "stream",
     "text": [
      "{'ISRG', 'AKAM', 'DFS', 'XYL'}\n"
     ]
    },
    {
     "name": "stderr",
     "output_type": "stream",
     "text": [
      "2024-12-04 19:49:41,879 - INFO - Received command c on object id p13\n",
      "                                                                                \r"
     ]
    },
    {
     "name": "stdout",
     "output_type": "stream",
     "text": [
      "{'ISRG', 'AKAM', 'DFS', 'XYL'}\n"
     ]
    },
    {
     "name": "stderr",
     "output_type": "stream",
     "text": [
      "2024-12-04 19:49:48,680 - INFO - Received command c on object id p13\n",
      "2024-12-04 19:49:51,678 - INFO - Received command  on object id  (69 + 8) / 200]\n",
      "2024-12-04 19:49:51,686 - INFO - Closing down callback connection\n",
      "                                                                                \r"
     ]
    },
    {
     "name": "stdout",
     "output_type": "stream",
     "text": [
      "{'AKAM', 'SPG', 'C', 'FRT', 'ESRX', 'HCN', 'GLW', 'MAA', 'ISRG', 'ES', 'XOM', 'CCL', 'KMI', 'CAG', 'TGT', 'UTX', 'XYL', 'BF.B', 'DFS', 'T', 'PEP', 'MAC', 'SCG', 'JNPR'}\n"
     ]
    },
    {
     "name": "stderr",
     "output_type": "stream",
     "text": [
      "2024-12-04 19:49:55,221 - INFO - Received command c on object id p13\n",
      "                                                                                \r"
     ]
    },
    {
     "name": "stdout",
     "output_type": "stream",
     "text": [
      "{'AKAM', 'AET', 'UDR', 'RL', 'SPG', 'BXP', 'PNW', 'C', 'MON', 'FRT', 'ESRX', 'HCN', 'GIS', 'AIV', 'GLW', 'RRC', 'MAA', 'TIF', 'ISRG', 'ES', 'XOM', 'CCL', 'KMI', 'CAG', 'TGT', 'UTX', 'XYL', 'ACN', 'ORCL', 'BF.B', 'DFS', 'T', 'PEP', 'MAC', 'HD', 'SCG', 'JNPR'}\n"
     ]
    },
    {
     "name": "stderr",
     "output_type": "stream",
     "text": [
      "2024-12-04 19:50:00,225 - INFO - Received command c on object id p13\n",
      "                                                                                \r"
     ]
    },
    {
     "name": "stdout",
     "output_type": "stream",
     "text": [
      "{'AKAM', 'IRM', 'AET', 'UDR', 'RL', 'SPG', 'BXP', 'EXPD', 'PNW', 'C', 'MCD', 'DLR', 'MON', 'FRT', 'ESRX', 'HCN', 'GIS', 'AIV', 'GLW', 'RRC', 'ED', 'MAA', 'TIF', 'ISRG', 'ES', 'FOXA', 'VTR', 'VIAB', 'XOM', 'CCL', 'KMI', 'CAG', 'TGT', 'UTX', 'IBM', 'HSY', 'NEM', 'WMB', 'IR', 'XYL', 'ACN', 'LH', 'ORCL', 'BF.B', 'DFS', 'T', 'XEL', 'PEP', 'MAC', 'SNPS', 'HD', 'SCG', 'JNPR'}\n"
     ]
    },
    {
     "name": "stderr",
     "output_type": "stream",
     "text": [
      "2024-12-04 19:50:05,892 - INFO - Received command c on object id p13\n",
      "                                                                                \r"
     ]
    },
    {
     "name": "stdout",
     "output_type": "stream",
     "text": [
      "{'AKAM', 'IRM', 'AET', 'UDR', 'RL', 'SPG', 'AEP', 'BXP', 'EXPD', 'PNW', 'C', 'MCD', 'DLR', 'CMS', 'MON', 'FRT', 'ESRX', 'ETR', 'HCN', 'GIS', 'AIV', 'GLW', 'RRC', 'ED', 'MAA', 'TIF', 'ISRG', 'ES', 'FOXA', 'VTR', 'VIAB', 'EW', 'HUM', 'XOM', 'CCL', 'KMI', 'CAG', 'TGT', 'UTX', 'IBM', 'HSY', 'NEM', 'WMB', 'IR', 'NTAP', 'CHRW', 'XYL', 'ACN', 'LH', 'ORCL', 'BF.B', 'DFS', 'T', 'XEL', 'PEP', 'WAT', 'MAC', 'SNPS', 'DHI', 'HD', 'SCG', 'JNPR'}\n"
     ]
    },
    {
     "name": "stderr",
     "output_type": "stream",
     "text": [
      "2024-12-04 19:50:12,095 - INFO - Received command c on object id p13\n",
      "                                                                                \r"
     ]
    },
    {
     "name": "stdout",
     "output_type": "stream",
     "text": [
      "{'ARE', 'AKAM', 'IRM', 'MRO', 'AET', 'KSU', 'UDR', 'RL', 'SPG', 'AEP', 'BXP', 'EXPD', 'PNW', 'C', 'MCD', 'DLR', 'CHK', 'CMS', 'MON', 'FRT', 'ESRX', 'O', 'ETR', 'HCN', 'GIS', 'AIV', 'GLW', 'RRC', 'ED', 'MAA', 'TIF', 'ISRG', 'ES', 'FOXA', 'VTR', 'VIAB', 'EW', 'HUM', 'XOM', 'CCL', 'KMI', 'CAG', 'TGT', 'UTX', 'IBM', 'HSY', 'NEM', 'WMB', 'IR', 'NTAP', 'CHRW', 'XYL', 'ACN', 'LH', 'ORCL', 'BF.B', 'SO', 'DFS', 'T', 'XEL', 'PEP', 'WAT', 'MAC', 'SNPS', 'DHI', 'HD', 'SCG', 'JNPR'}\n"
     ]
    },
    {
     "name": "stderr",
     "output_type": "stream",
     "text": [
      "2024-12-04 19:50:18,028 - INFO - Received command c on object id p13\n",
      "[Stage 263:==========================================>          (160 + 8) / 200]\r"
     ]
    }
   ],
   "source": [
    "from pyspark.sql import SparkSession\n",
    "from pyspark.sql.functions import window, col, last\n",
    "from pyspark.sql.types import StringType, DoubleType, StructType, StructField, TimestampType\n",
    "\n",
    "\n",
    "# Use a dictionary to hold the state of each stock\n",
    "stock_states = {}\n",
    "# Set to hold names of stocks that lost value\n",
    "stocks_that_lost_value = set()\n",
    "\n",
    "# Define a class to hold the state of each stock\n",
    "class StockState:\n",
    "    def __init__(self, name):\n",
    "        self.name = name\n",
    "        self.last_price = None\n",
    "        self.last_window_end = None\n",
    "        self.lost_value = False  # Add flag to track if the stock lost value\n",
    "\n",
    "    def update(self, price, window_end):\n",
    "        if self.last_window_end is None or window_end > self.last_window_end:\n",
    "            if self.last_price is not None and price < self.last_price:\n",
    "                self.lost_value = True # Stock lost value\n",
    "                stocks_that_lost_value.add(self.name)\n",
    "            else:\n",
    "                self.lost_value = False  # Stock did not lose value\n",
    "            self.last_price = price\n",
    "            self.last_window_end = window_end\n",
    "        # Return the state including whether the stock lost value\n",
    "        return (self.name, self.last_price, self.last_window_end, self.lost_value)\n",
    "\n",
    "\n",
    "# Define the watermark and window operation on the streaming DataFrame\n",
    "windowedDF = df \\\n",
    "    .withWatermark(\"timestamp\", \"5 minutes\") \\\n",
    "    .groupBy(\n",
    "        col(\"name\"),\n",
    "        window(col(\"timestamp\"), \"10 minutes\")\n",
    "    ) \\\n",
    "    .agg(\n",
    "        last(\"price\").alias(\"last_price\")\n",
    "    )\n",
    "\n",
    "def process_batch(df, epoch_id):\n",
    "    # Process the DataFrame row by row\n",
    "    for row in df.collect():\n",
    "        stock_name = row['name']\n",
    "        price = row['last_price']\n",
    "        window_end = row['window'].end\n",
    "\n",
    "        # Get the stock state or create it if it doesn't exist\n",
    "        stock_state = stock_states.get(stock_name, StockState(stock_name))\n",
    "        \n",
    "        # Update the state and check if the stock lost value\n",
    "        result = stock_state.update(price, window_end)\n",
    "        stock_states[stock_name] = stock_state  # Update the state in the dictionary\n",
    "\n",
    "    print(stocks_that_lost_value)\n",
    "\n",
    "# Define the streaming query using the process_batch function\n",
    "query = windowedDF.writeStream \\\n",
    "    .outputMode(\"update\") \\\n",
    "    .foreachBatch(process_batch) \\\n",
    "    .start()  # Start the streaming query\n",
    "\n",
    "# Await termination of the streaming query (this is running continuously)\n",
    "query.awaitTermination(timeout=60)\n",
    "query.stop()\n"
   ]
  },
  {
   "cell_type": "code",
   "execution_count": 10,
   "id": "46d9dd6c",
   "metadata": {},
   "outputs": [
    {
     "name": "stdout",
     "output_type": "stream",
     "text": [
      "Creating streaming query...\n",
      "Starting streaming query...\n"
     ]
    },
    {
     "name": "stderr",
     "output_type": "stream",
     "text": [
      "24/12/04 19:34:29 WARN StreamingQueryManager: Temporary checkpoint location created which is deleted normally when the query didn't fail: /tmp/temporary-1c7a3305-12fa-4270-a50e-8adff4c07294. If it's required to delete it under any circumstances, please set spark.sql.streaming.forceDeleteTempCheckpointLocation to true. Important to know deleting temp checkpoint folder is best effort.\n"
     ]
    },
    {
     "name": "stdout",
     "output_type": "stream",
     "text": [
      "Collecting data for 60 seconds...\n"
     ]
    },
    {
     "name": "stderr",
     "output_type": "stream",
     "text": [
      "[Stage 79:========>                                              (30 + 8) / 200]\r"
     ]
    },
    {
     "name": "stdout",
     "output_type": "stream",
     "text": [
      "Analysis Results:\n",
      "\n",
      "Top 10 Stocks with Biggest Value Loss:\n",
      "======================================================================\n",
      "Stock  Start Price($) End Price($) Change($)  Change(%) \n",
      "----------------------------------------------------------------------\n",
      "GPC    $78.22       $74.82       $-3.40     -4.35    %\n",
      "GPC    $78.22       $74.82       $-3.40     -4.35    %\n",
      "GPC    $78.22       $74.82       $-3.40     -4.35    %\n",
      "WMB    $36.93       $33.66       $-3.27     -8.85    %\n",
      "WMB    $36.93       $33.66       $-3.27     -8.85    %\n",
      "ZBH    $81.19       $78.77       $-2.42     -2.97    %\n",
      "ZBH    $81.19       $78.77       $-2.42     -2.97    %\n",
      "ORLY   $112.17      $110.26      $-1.91     -1.70    %\n",
      "ORLY   $112.17      $110.26      $-1.91     -1.70    %\n",
      "SO     $46.36       $44.59       $-1.77     -3.82    %\n",
      "======================================================================\n"
     ]
    },
    {
     "name": "stderr",
     "output_type": "stream",
     "text": [
      "[Stage 79:======================>                                (81 + 8) / 200]\r"
     ]
    },
    {
     "data": {
      "image/png": "[encoded data removed]",
      "text/plain": [
       "<Figure size 1200x600 with 1 Axes>"
      ]
     },
     "metadata": {},
     "output_type": "display_data"
    },
    {
     "name": "stdout",
     "output_type": "stream",
     "text": [
      "\n",
      "Stopping query...\n"
     ]
    },
    {
     "name": "stderr",
     "output_type": "stream",
     "text": [
      "                                                                                \r"
     ]
    },
    {
     "name": "stdout",
     "output_type": "stream",
     "text": [
      "Query execution completed.\n"
     ]
    }
   ],
   "source": [
    "\n",
    "# Define window parameters\n",
    "window_duration = \"1 minute\"\n",
    "watermark_delay = \"2 minutes\"\n",
    "\n",
    "# Create streaming query for stocks losing value\n",
    "print(\"Creating streaming query...\")\n",
    "losing_stocks_stream = (df\n",
    "    .withWatermark(\"timestamp\", watermark_delay)\n",
    "    .groupBy(\n",
    "        window(col(\"timestamp\"), window_duration),\n",
    "        col(\"name\")\n",
    "    )\n",
    "    .agg(\n",
    "        first(\"price\").alias(\"start_price\"),\n",
    "        last(\"price\").alias(\"end_price\")\n",
    "    )\n",
    "    .withColumn(\"price_change\", col(\"end_price\") - col(\"start_price\"))\n",
    "    .filter(col(\"price_change\") < 0)  # Only keep stocks that lost value\n",
    "    .orderBy(col(\"price_change\"))  # Order by biggest losses first\n",
    ")\n",
    "\n",
    "# Create a list to store the results\n",
    "collected_data = []\n",
    "\n",
    "def process_batch(df, epoch_id):\n",
    "    # Collect data from the current batch\n",
    "    batch_data = df.collect()\n",
    "    collected_data.extend(batch_data)\n",
    "\n",
    "print(\"Starting streaming query...\")\n",
    "query = (losing_stocks_stream\n",
    "    .writeStream\n",
    "    .outputMode(\"complete\")\n",
    "    .format(\"console\")\n",
    "    .foreachBatch(process_batch)\n",
    "    .option(\"truncate\", \"false\")\n",
    "    .start()\n",
    ")\n",
    "\n",
    "print(\"Collecting data for 60 seconds...\")\n",
    "time.sleep(60)  # Wait for data collection\n",
    "\n",
    "print(\"Analysis Results:\")\n",
    "try:\n",
    "    if collected_data:\n",
    "        # Get top 10 biggest losses\n",
    "        top_10_losses = sorted(collected_data, key=lambda x: x['price_change'])[:10]\n",
    "        \n",
    "        # Display table of top 10 losing stocks\n",
    "        print(\"\\nTop 10 Stocks with Biggest Value Loss:\")\n",
    "        print(\"=\" * 70)\n",
    "        print(f\"{'Stock':<6} {'Start Price($)':<12} {'End Price($)':<12} {'Change($)':<10} {'Change(%)':<10}\")\n",
    "        print(\"-\" * 70)\n",
    "        for stock in top_10_losses:\n",
    "            percent_change = (stock['price_change'] / stock['start_price']) * 100\n",
    "            print(f\"{stock['name']:<6} ${stock['start_price']:<11.2f} ${stock['end_price']:<11.2f} ${stock['price_change']:<9.2f} {percent_change:<9.2f}%\")\n",
    "        print(\"=\" * 70)\n",
    "        \n",
    "        # Create visualization\n",
    "        names = [stock['name'] for stock in top_10_losses]\n",
    "        changes = [stock['price_change'] for stock in top_10_losses]\n",
    "        \n",
    "        plt.figure(figsize=(12, 6))\n",
    "        bars = plt.bar(names, changes, color='red')\n",
    "        plt.title('Top 10 Stocks with Biggest Value Loss', fontsize=14, pad=20)\n",
    "        plt.xlabel('Stock Symbol', fontsize=12)\n",
    "        plt.ylabel('Price Change ($)', fontsize=12)\n",
    "        plt.xticks(rotation=45)\n",
    "        \n",
    "        # Add value labels\n",
    "        for bar in bars:\n",
    "            height = bar.get_height()\n",
    "            plt.text(bar.get_x() + bar.get_width() / 2., height,\n",
    "                     f'${height:.2f}',\n",
    "                     ha='center', va='bottom' if height >= 0 else 'top')\n",
    "        \n",
    "        plt.tight_layout()\n",
    "        plt.show()\n",
    "    else:\n",
    "        print(\"No data collected for visualization\")\n",
    "\n",
    "except Exception as e:\n",
    "    print(f\"Error creating visualization: {e}\")\n",
    "\n",
    "finally:\n",
    "    print(\"\\nStopping query...\")\n",
    "    query.awaitTermination(30)  # Allow some extra time for any final processing\n",
    "    query.stop()\n",
    "    print(\"Query execution completed.\")\n"
   ]
  },
  {
   "cell_type": "markdown",
   "id": "bddf6821",
   "metadata": {},
   "source": [
    "## Select the stock that gained the most (between windows) "
   ]
  },
  {
   "cell_type": "markdown",
   "id": "53385e1c",
   "metadata": {},
   "source": [
    "## TASK 3"
   ]
  },
  {
   "cell_type": "code",
   "execution_count": 14,
   "id": "dc3f592c",
   "metadata": {},
   "outputs": [
    {
     "name": "stderr",
     "output_type": "stream",
     "text": [
      "24/12/04 19:42:39 WARN StreamingQueryManager: Temporary checkpoint location created which is deleted normally when the query didn't fail: /tmp/temporary-289b3ff2-1ccd-45fb-915f-27a43091bcf6. If it's required to delete it under any circumstances, please set spark.sql.streaming.forceDeleteTempCheckpointLocation to true. Important to know deleting temp checkpoint folder is best effort.\n",
      "2024-12-04 19:42:40,155 - INFO - Streaming query started. Collecting data...\n",
      "2024-12-04 19:42:40,928 - INFO - Callback Connection ready to receive messages\n",
      "2024-12-04 19:42:40,943 - INFO - Received command c on object id p9\n",
      "2024-12-04 19:42:46,272 - INFO - Top Gainers: [('AIZ', 0.6299999999999955)]     \n"
     ]
    },
    {
     "data": {
      "image/png": "[encoded data removed]",
      "text/plain": [
       "<Figure size 1200x600 with 1 Axes>"
      ]
     },
     "metadata": {},
     "output_type": "display_data"
    },
    {
     "name": "stderr",
     "output_type": "stream",
     "text": [
      "2024-12-04 19:42:47,062 - INFO - Received command c on object id p9\n",
      "2024-12-04 19:42:51,391 - INFO - Top Gainers: [('ADBE', 6.020000000000003), ('TGT', 5.619999999999997), ('YUM', 5.364000000000004), ('AIZ', 0.6299999999999955)]\n"
     ]
    },
    {
     "data": {
      "image/png": "[encoded data removed]",
      "text/plain": [
       "<Figure size 1200x600 with 1 Axes>"
      ]
     },
     "metadata": {},
     "output_type": "display_data"
    },
    {
     "name": "stderr",
     "output_type": "stream",
     "text": [
      "2024-12-04 19:42:52,094 - INFO - Received command c on object id p9\n",
      "2024-12-04 19:42:56,573 - INFO - Top Gainers: [('VRTX', 30.93), ('KMB', 14.840000000000003), ('HCP', 6.630000000000003), ('CL', 6.325000000000003), ('ADBE', 6.020000000000003), ('TGT', 5.619999999999997), ('YUM', 5.364000000000004), ('PFE', 3.3500000000000014), ('AIZ', 0.6299999999999955)]\n"
     ]
    },
    {
     "data": {
      "image/png": "[encoded data removed]",
      "text/plain": [
       "<Figure size 1200x600 with 1 Axes>"
      ]
     },
     "metadata": {},
     "output_type": "display_data"
    },
    {
     "name": "stderr",
     "output_type": "stream",
     "text": [
      "2024-12-04 19:42:57,535 - INFO - Received command c on object id p9\n",
      "2024-12-04 19:43:02,154 - INFO - Top Gainers: [('VRTX', 30.93), ('KMB', 14.840000000000003), ('IT', 8.93), ('PKG', 8.149999999999999), ('HCP', 6.630000000000003), ('CL', 6.325000000000003), ('ADBE', 6.020000000000003), ('TGT', 5.619999999999997), ('YUM', 5.364000000000004), ('ZION', 4.030000000000001)]\n"
     ]
    },
    {
     "data": {
      "image/png": "[encoded data removed]",
      "text/plain": [
       "<Figure size 1200x600 with 1 Axes>"
      ]
     },
     "metadata": {},
     "output_type": "display_data"
    },
    {
     "name": "stderr",
     "output_type": "stream",
     "text": [
      "2024-12-04 19:43:03,059 - INFO - Received command c on object id p9\n",
      "2024-12-04 19:43:07,890 - INFO - Top Gainers: [('VRTX', 30.93), ('KMB', 14.840000000000003), ('IT', 8.93), ('PKG', 8.149999999999999), ('HCP', 6.630000000000003), ('CL', 6.325000000000003), ('ADBE', 6.020000000000003), ('TGT', 5.619999999999997), ('YUM', 5.364000000000004), ('ZION', 4.030000000000001)]\n"
     ]
    },
    {
     "data": {
      "image/png": "[encoded data removed]",
      "text/plain": [
       "<Figure size 1200x600 with 1 Axes>"
      ]
     },
     "metadata": {},
     "output_type": "display_data"
    },
    {
     "name": "stderr",
     "output_type": "stream",
     "text": [
      "2024-12-04 19:43:09,558 - INFO - Received command c on object id p9\n",
      "2024-12-04 19:43:15,636 - INFO - Top Gainers: [('VRTX', 30.93), ('KMB', 14.840000000000003), ('IT', 8.93), ('PKG', 8.149999999999999), ('HCP', 6.630000000000003), ('CL', 6.325000000000003), ('ADBE', 6.020000000000003), ('TGT', 5.619999999999997), ('PNW', 5.419999999999995), ('YUM', 5.364000000000004)]\n"
     ]
    },
    {
     "data": {
      "image/png": "[encoded data removed]",
      "text/plain": [
       "<Figure size 1200x600 with 1 Axes>"
      ]
     },
     "metadata": {},
     "output_type": "display_data"
    },
    {
     "name": "stderr",
     "output_type": "stream",
     "text": [
      "2024-12-04 19:43:16,858 - INFO - Received command c on object id p9\n",
      "2024-12-04 19:43:22,069 - INFO - Top Gainers: [('VRTX', 30.93), ('KMB', 14.840000000000003), ('CMI', 12.549999999999997), ('KORS', 10.909999999999997), ('IT', 8.93), ('LH', 8.695000000000007), ('PKG', 8.149999999999999), ('HCP', 6.630000000000003), ('CL', 6.325000000000003), ('ADBE', 6.020000000000003)]\n"
     ]
    },
    {
     "data": {
      "image/png": "[encoded data removed]",
      "text/plain": [
       "<Figure size 1200x600 with 1 Axes>"
      ]
     },
     "metadata": {},
     "output_type": "display_data"
    },
    {
     "name": "stderr",
     "output_type": "stream",
     "text": [
      "2024-12-04 19:43:24,888 - INFO - Received command c on object id p9\n",
      "2024-12-04 19:43:30,857 - INFO - Top Gainers: [('VRTX', 30.93), ('MCO', 22.32), ('EOG', 21.64), ('AYI', 20.83999999999999), ('UHS', 19.68), ('DOV', 17.5), ('ORLY', 17.070000000000007), ('ECL', 14.909999999999997), ('KMB', 14.840000000000003), ('SLB', 13.054999999999993)]\n"
     ]
    },
    {
     "data": {
      "image/png": "[encoded data removed]",
      "text/plain": [
       "<Figure size 1200x600 with 1 Axes>"
      ]
     },
     "metadata": {},
     "output_type": "display_data"
    },
    {
     "name": "stderr",
     "output_type": "stream",
     "text": [
      "2024-12-04 19:43:31,923 - INFO - Received command c on object id p9\n",
      "2024-12-04 19:43:36,273 - INFO - Top Gainers: [('AZO', 72.93), ('ADS', 66.09), ('WYNN', 44.000000000000014), ('ILMN', 33.37), ('VRTX', 30.93), ('ROK', 23.298999999999992), ('MCO', 22.32), ('EOG', 21.64), ('AYI', 20.83999999999999), ('MA', 20.684999999999995)]\n"
     ]
    },
    {
     "data": {
      "image/png": "[encoded data removed]",
      "text/plain": [
       "<Figure size 1200x600 with 1 Axes>"
      ]
     },
     "metadata": {},
     "output_type": "display_data"
    },
    {
     "name": "stderr",
     "output_type": "stream",
     "text": [
      "2024-12-04 19:43:37,322 - INFO - Received command c on object id p9\n",
      "2024-12-04 19:43:40,054 - INFO - Stopping query...              (101 + 8) / 200]\n",
      "2024-12-04 19:43:41,897 - INFO - Top Gainers: [('PCLN', 345.5999999999999), ('AZO', 72.93), ('ADS', 66.09), ('WYNN', 44.000000000000014), ('ILMN', 33.37), ('VRTX', 30.93), ('RE', 29.745000000000005), ('WDC', 28.799999999999997), ('NOC', 27.570000000000007), ('NFLX', 25.54)]\n"
     ]
    },
    {
     "data": {
      "image/png": "[encoded data removed]",
      "text/plain": [
       "<Figure size 1200x600 with 1 Axes>"
      ]
     },
     "metadata": {},
     "output_type": "display_data"
    },
    {
     "name": "stderr",
     "output_type": "stream",
     "text": [
      "2024-12-04 19:43:43,047 - INFO - Query execution completed.\n",
      "2024-12-04 19:44:22,189 - INFO - Received command  on object id \n",
      "2024-12-04 19:44:22,192 - INFO - Closing down callback connection\n"
     ]
    }
   ],
   "source": []
  },
  {
   "cell_type": "markdown",
   "id": "ca615f73",
   "metadata": {},
   "source": [
    "## TASK 4"
   ]
  },
  {
   "cell_type": "code",
   "execution_count": 5,
   "id": "ff9a2327",
   "metadata": {},
   "outputs": [
    {
     "name": "stdout",
     "output_type": "stream",
     "text": [
      "root\n",
      " |-- name: string (nullable = true)\n",
      " |-- price: double (nullable = true)\n",
      " |-- timestamp: timestamp (nullable = true)\n",
      "\n"
     ]
    }
   ],
   "source": [
    "df.printSchema()"
   ]
  },
  {
   "cell_type": "code",
   "execution_count": null,
   "id": "cfb46742",
   "metadata": {},
   "outputs": [
    {
     "name": "stderr",
     "output_type": "stream",
     "text": [
      "24/12/04 20:21:31 WARN StreamingQueryManager: Temporary checkpoint location created which is deleted normally when the query didn't fail: /tmp/temporary-02c61b59-3b38-4dc2-a276-8821161a4b50. If it's required to delete it under any circumstances, please set spark.sql.streaming.forceDeleteTempCheckpointLocation to true. Important to know deleting temp checkpoint folder is best effort.\n",
      "                                                                                \r"
     ]
    },
    {
     "name": "stdout",
     "output_type": "stream",
     "text": [
      "-------------------------------------------\n",
      "Batch: 58\n",
      "-------------------------------------------\n",
      "+--------------------+----+--------------------+\n",
      "|              window|name|        value_change|\n",
      "+--------------------+----+--------------------+\n",
      "|[2024-12-03 12:00...| TMO|                 0.0|\n",
      "|[2024-12-03 12:00...|  KR| -0.4517356157869656|\n",
      "|[2024-12-03 12:00...|  IR|   3.462766851571696|\n",
      "|[2024-12-03 12:00...|FAST|                 0.0|\n",
      "|[2024-12-03 12:00...|WYNN| -2.8921091086215296|\n",
      "|[2024-12-03 12:00...| WMB|   4.007581911724876|\n",
      "|[2024-12-03 12:00...| GPC|  -4.704679110202003|\n",
      "|[2024-12-03 12:00...|ESRX|-0.01480165778565...|\n",
      "|[2024-12-03 12:00...| DHI|  11.988054607508541|\n",
      "|[2024-12-03 12:00...|ANDV|                 0.0|\n",
      "|[2024-12-03 12:00...| MTD|                 0.0|\n",
      "|[2024-12-03 12:00...|ORCL|  -3.729913017838716|\n",
      "|[2024-12-03 12:00...|COTY|  -2.939297124600633|\n",
      "|[2024-12-03 12:00...|NTAP|  0.2696739396910994|\n",
      "|[2024-12-03 12:00...| ETR|  10.614285714285714|\n",
      "|[2024-12-03 12:00...|ALLE|                 0.0|\n",
      "|[2024-12-03 12:00...| CRM|                 0.0|\n",
      "|[2024-12-03 12:00...| XEC| -1.6099071207430216|\n",
      "|[2024-12-03 12:00...|  LH|   8.869987849331718|\n",
      "|[2024-12-03 12:00...| CVS| -0.7263600551834165|\n",
      "+--------------------+----+--------------------+\n",
      "only showing top 20 rows\n",
      "\n"
     ]
    },
    {
     "name": "stderr",
     "output_type": "stream",
     "text": [
      "                                                                                \r"
     ]
    },
    {
     "name": "stdout",
     "output_type": "stream",
     "text": [
      "-------------------------------------------\n",
      "Batch: 59\n",
      "-------------------------------------------\n",
      "+--------------------+----+--------------------+\n",
      "|              window|name|        value_change|\n",
      "+--------------------+----+--------------------+\n",
      "|[2024-12-03 12:00...| AEP|  -4.204958084906094|\n",
      "|[2024-12-03 12:00...| FTI|   5.855338691159577|\n",
      "|[2024-12-03 12:00...| KSU|   4.454220511410503|\n",
      "|[2024-12-03 12:00...|QCOM|                 0.0|\n",
      "|[2024-12-03 12:00...| MTB|-0.14515027322404517|\n",
      "|[2024-12-03 12:00...| CMS|  1.7850900272676058|\n",
      "|[2024-12-03 12:00...| LOW|  -4.131516331386554|\n",
      "|[2024-12-03 12:00...|  KR|  12.577270565858296|\n",
      "|[2024-12-03 12:00...| MHK|  -3.631424690828517|\n",
      "|[2024-12-03 12:00...| MDT|  0.5708529214237801|\n",
      "|[2024-12-03 12:00...| NEM|   5.182926829268291|\n",
      "|[2024-12-03 12:00...|VRSN|                 0.0|\n",
      "|[2024-12-03 12:00...| AMP|                 0.0|\n",
      "|[2024-12-03 12:00...|  PM|                 0.0|\n",
      "|[2024-12-03 12:00...|  XL| -2.2412656558998014|\n",
      "|[2024-12-03 12:00...|ANDV|   11.84120465434633|\n",
      "|[2024-12-03 12:00...| MTD| -0.8092624494210896|\n",
      "|[2024-12-03 12:00...| HUM| 0.15163768701981975|\n",
      "|[2024-12-03 12:00...| FCX|                 0.0|\n",
      "|[2024-12-03 12:00...| WYN|                 0.0|\n",
      "+--------------------+----+--------------------+\n",
      "only showing top 20 rows\n",
      "\n"
     ]
    },
    {
     "name": "stderr",
     "output_type": "stream",
     "text": [
      "                                                                                \r"
     ]
    },
    {
     "name": "stdout",
     "output_type": "stream",
     "text": [
      "-------------------------------------------\n",
      "Batch: 0\n",
      "-------------------------------------------\n",
      "+--------------------+----+-------------------+\n",
      "|              window|name|       value_change|\n",
      "+--------------------+----+-------------------+\n",
      "|[2024-12-02 15:30...|FLIR|                0.0|\n",
      "|[2024-12-02 15:25...|ADBE|                0.0|\n",
      "|[2024-12-02 15:30...| CBG|                0.0|\n",
      "|[2024-12-02 15:25...| AZO|                0.0|\n",
      "|[2024-12-02 15:25...| HAS|                0.0|\n",
      "|[2024-12-02 15:30...| DFS|                0.0|\n",
      "|[2024-12-02 15:30...| NEM|                0.0|\n",
      "|[2024-12-02 15:30...| ACN|                0.0|\n",
      "|[2024-12-02 15:30...|ADSK|                0.0|\n",
      "|[2024-12-02 15:30...| UAA|                0.0|\n",
      "|[2024-12-02 15:25...|AMAT|                0.0|\n",
      "|[2024-12-02 15:25...|  CL|                0.0|\n",
      "|[2024-12-02 15:30...|CHRW|                0.0|\n",
      "|[2024-12-02 15:30...| WYN|                0.0|\n",
      "|[2024-12-02 15:25...| FLS|0.12471182593444556|\n",
      "|[2024-12-02 15:30...| MCO|                0.0|\n",
      "|[2024-12-02 15:30...| UHS|                0.0|\n",
      "|[2024-12-02 15:25...|AKAM|                0.0|\n",
      "|[2024-12-02 15:30...| SYY|                0.0|\n",
      "|[2024-12-02 15:30...| UDR|                0.0|\n",
      "+--------------------+----+-------------------+\n",
      "only showing top 20 rows\n",
      "\n"
     ]
    },
    {
     "name": "stderr",
     "output_type": "stream",
     "text": [
      "                                                                                \r"
     ]
    },
    {
     "name": "stdout",
     "output_type": "stream",
     "text": [
      "-------------------------------------------\n",
      "Batch: 60\n",
      "-------------------------------------------\n",
      "+--------------------+----+--------------------+\n",
      "|              window|name|        value_change|\n",
      "+--------------------+----+--------------------+\n",
      "|[2024-12-03 12:00...|  IR|-0.08404773911581301|\n",
      "|[2024-12-03 12:00...| MRO|    7.97241379310345|\n",
      "|[2024-12-03 12:00...| XEL|  1.3249420337860287|\n",
      "|[2024-12-03 12:00...| NEM|   8.193597560975604|\n",
      "|[2024-12-03 12:00...| PVH|                 0.0|\n",
      "|[2024-12-03 12:00...| COO|-0.30065669752353463|\n",
      "|[2024-12-03 12:00...|  SO|  14.229453829412364|\n",
      "|[2024-12-03 12:00...| AMP|   4.778575179415375|\n",
      "|[2024-12-03 12:00...| WMT| -3.1497136623943307|\n",
      "|[2024-12-03 12:00...|  PM|    5.97279716144293|\n",
      "|[2024-12-03 12:00...|COTY|  3.8977635782747684|\n",
      "|[2024-12-03 12:00...|   L|-0.04445432318292069|\n",
      "|[2024-12-03 12:00...| IPG| -4.1348600508905875|\n",
      "|[2024-12-03 12:00...| SCG|  11.547311575487193|\n",
      "|[2024-12-03 12:00...| NFX|  -2.984447246742332|\n",
      "|[2024-12-03 12:00...| FCX|   10.17112889870272|\n",
      "|[2024-12-03 12:00...|  RL|  10.774744968293351|\n",
      "|[2024-12-03 12:00...| RHT|  0.7033997655334143|\n",
      "|[2024-12-03 12:00...| PPG|  2.2848570977419906|\n",
      "|[2024-12-03 12:00...| PCG|                 0.0|\n",
      "+--------------------+----+--------------------+\n",
      "only showing top 20 rows\n",
      "\n"
     ]
    },
    {
     "name": "stderr",
     "output_type": "stream",
     "text": [
      "                                                                                \r"
     ]
    },
    {
     "name": "stdout",
     "output_type": "stream",
     "text": [
      "-------------------------------------------\n",
      "Batch: 1\n",
      "-------------------------------------------\n",
      "+--------------------+----+------------------+\n",
      "|              window|name|      value_change|\n",
      "+--------------------+----+------------------+\n",
      "|[2024-12-02 15:30...| PEG|               0.0|\n",
      "|[2024-12-02 15:30...| YUM|               0.0|\n",
      "|[2024-12-02 15:30...| TRV|               0.0|\n",
      "|[2024-12-02 15:30...| DAL| 7.922535211267603|\n",
      "|[2024-12-02 15:30...| REG|               0.0|\n",
      "|[2024-12-02 15:30...| SYK|               0.0|\n",
      "|[2024-12-02 15:30...| BLL|               0.0|\n",
      "|[2024-12-02 15:30...| SWK|               0.0|\n",
      "|[2024-12-02 15:30...|AKAM|               0.0|\n",
      "|[2024-12-02 15:30...| VAR|0.6228373702422184|\n",
      "|[2024-12-02 15:30...| MGM|               0.0|\n",
      "|[2024-12-02 15:30...| NOV|               0.0|\n",
      "|[2024-12-02 15:30...| DPS|               0.0|\n",
      "|[2024-12-02 15:30...| BXP|               0.0|\n",
      "|[2024-12-02 15:30...| KSS|               0.0|\n",
      "|[2024-12-02 15:30...| XEL|               0.0|\n",
      "|[2024-12-02 15:30...| XYL|               0.0|\n",
      "|[2024-12-02 15:30...| VMC|               0.0|\n",
      "|[2024-12-02 15:30...|CBOE|               0.0|\n",
      "|[2024-12-02 15:30...| PVH|               0.0|\n",
      "+--------------------+----+------------------+\n",
      "only showing top 20 rows\n",
      "\n"
     ]
    },
    {
     "name": "stderr",
     "output_type": "stream",
     "text": [
      "                                                                                \r"
     ]
    },
    {
     "name": "stdout",
     "output_type": "stream",
     "text": [
      "-------------------------------------------\n",
      "Batch: 61\n",
      "-------------------------------------------\n",
      "+--------------------+----+--------------------+\n",
      "|              window|name|        value_change|\n",
      "+--------------------+----+--------------------+\n",
      "|[2024-12-03 12:00...| LEG|-0.00628377529219...|\n",
      "|[2024-12-03 12:00...| FTI|   1.377726750861077|\n",
      "|[2024-12-03 12:00...| MDT|  -1.561450638012088|\n",
      "|[2024-12-03 12:00...|ATVI|                 0.0|\n",
      "|[2024-12-03 12:00...| CVX|                 0.0|\n",
      "|[2024-12-03 12:00...| NEM|   6.249999999999989|\n",
      "|[2024-12-03 12:00...|CERN|                 0.0|\n",
      "|[2024-12-03 12:00...| RHI|                 0.0|\n",
      "|[2024-12-03 12:00...|  XL| -0.7580751483190522|\n",
      "|[2024-12-03 12:00...| MTD|  0.4567124714554764|\n",
      "|[2024-12-03 12:00...|  VZ|  13.328369322412502|\n",
      "|[2024-12-03 12:00...| CNP| 0.16891891891891533|\n",
      "|[2024-12-03 12:00...| SCG|   6.287861000234791|\n",
      "|[2024-12-03 12:00...|VRSK|  0.9582155199497322|\n",
      "|[2024-12-03 12:00...| JPM| -3.7779767233661583|\n",
      "|[2024-12-03 12:00...| SWK|  1.9809069212410462|\n",
      "|[2024-12-03 12:00...| AMD|   9.024390243902431|\n",
      "|[2024-12-03 12:00...| RSG|  -3.317679139524311|\n",
      "|[2024-12-03 12:00...| DOV| -3.3938664301102532|\n",
      "|[2024-12-03 12:00...|  IP|                 0.0|\n",
      "+--------------------+----+--------------------+\n",
      "only showing top 20 rows\n",
      "\n"
     ]
    },
    {
     "name": "stderr",
     "output_type": "stream",
     "text": [
      "                                                                                \r"
     ]
    },
    {
     "name": "stdout",
     "output_type": "stream",
     "text": [
      "-------------------------------------------\n",
      "Batch: 2\n",
      "-------------------------------------------\n",
      "+--------------------+----+-------------------+\n",
      "|              window|name|       value_change|\n",
      "+--------------------+----+-------------------+\n",
      "|[2024-12-02 15:30...| YUM|-0.6580829756795332|\n",
      "|[2024-12-02 15:30...| EMN|                0.0|\n",
      "|[2024-12-02 15:30...|VRTX|                0.0|\n",
      "|[2024-12-02 15:30...| ESS|                0.0|\n",
      "|[2024-12-02 15:30...| REG| -2.688375615297239|\n",
      "|[2024-12-02 15:30...|NCLH|                0.0|\n",
      "|[2024-12-02 15:30...| SYK| 0.3996311097448587|\n",
      "|[2024-12-02 15:30...| CMG| -3.106267029972746|\n",
      "|[2024-12-02 15:30...| HCP|                0.0|\n",
      "|[2024-12-02 15:30...| IVZ|                0.0|\n",
      "|[2024-12-02 15:30...|ORLY|                0.0|\n",
      "|[2024-12-02 15:30...| BXP|  0.799273387829242|\n",
      "|[2024-12-02 15:30...| MAT|                0.0|\n",
      "|[2024-12-02 15:30...|CHTR|                0.0|\n",
      "|[2024-12-02 15:30...| XYL| -0.543675244653855|\n",
      "|[2024-12-02 15:30...|  DG|-1.8109414999525901|\n",
      "|[2024-12-02 15:30...|ANTM|                0.0|\n",
      "|[2024-12-02 15:30...|INTC|                0.0|\n",
      "|[2024-12-02 15:30...| VMC| 0.5009016229212583|\n",
      "|[2024-12-02 15:30...|   A|                0.0|\n",
      "+--------------------+----+-------------------+\n",
      "only showing top 20 rows\n",
      "\n"
     ]
    },
    {
     "name": "stderr",
     "output_type": "stream",
     "text": [
      "                                                                                \r"
     ]
    },
    {
     "name": "stdout",
     "output_type": "stream",
     "text": [
      "-------------------------------------------\n",
      "Batch: 62\n",
      "-------------------------------------------\n",
      "+--------------------+-----+--------------------+\n",
      "|              window| name|        value_change|\n",
      "+--------------------+-----+--------------------+\n",
      "|[2024-12-03 12:00...|DISCA| -3.1269543464665412|\n",
      "|[2024-12-03 12:00...|  GPS|   5.330438977327547|\n",
      "|[2024-12-03 12:00...|  FTI| -1.5499425947187184|\n",
      "|[2024-12-03 12:00...|  MHK|-0.00714847380085...|\n",
      "|[2024-12-03 12:00...|  KMI|  16.415239069291747|\n",
      "|[2024-12-03 12:00...|  MRO|  1.2137931034482696|\n",
      "|[2024-12-03 12:00...|  XEL|  -2.451142762504135|\n",
      "|[2024-12-03 12:00...|  NEM|  6.7835365853658445|\n",
      "|[2024-12-03 12:00...|  ZTS|  10.347930413917224|\n",
      "|[2024-12-03 12:00...|   PM|   2.424600827912475|\n",
      "|[2024-12-03 12:00...|  AMT|  -4.486299096817666|\n",
      "|[2024-12-03 12:00...|  MAT|   14.33970653623832|\n",
      "|[2024-12-03 12:00...| EBAY| -0.8804108584005812|\n",
      "|[2024-12-03 12:00...|  IPG|  -4.516539440203556|\n",
      "|[2024-12-03 12:00...| NTAP|   8.531502819318453|\n",
      "|[2024-12-03 12:00...|  KIM|                 0.0|\n",
      "|[2024-12-03 12:00...|  FCX|   6.182721501518065|\n",
      "|[2024-12-03 12:00...|  MKC| -1.4895729890764808|\n",
      "|[2024-12-03 12:00...|  DRE|                 0.0|\n",
      "|[2024-12-03 12:00...|  PCG| -2.8396183552930485|\n",
      "+--------------------+-----+--------------------+\n",
      "only showing top 20 rows\n",
      "\n"
     ]
    },
    {
     "name": "stderr",
     "output_type": "stream",
     "text": [
      "                                                                                \r"
     ]
    },
    {
     "name": "stdout",
     "output_type": "stream",
     "text": [
      "-------------------------------------------\n",
      "Batch: 3\n",
      "-------------------------------------------\n",
      "+--------------------+----+--------------------+\n",
      "|              window|name|        value_change|\n",
      "+--------------------+----+--------------------+\n",
      "|[2024-12-02 15:30...| JEC|                 0.0|\n",
      "|[2024-12-02 15:30...|PCLN|                 0.0|\n",
      "|[2024-12-02 15:30...| ESS| -0.6140097084257643|\n",
      "|[2024-12-02 15:30...| REG|   3.351192730026504|\n",
      "|[2024-12-02 15:30...|  LB|                 0.0|\n",
      "|[2024-12-02 15:30...| HIG|                 0.0|\n",
      "|[2024-12-02 15:30...| NEE|  1.0104744300677848|\n",
      "|[2024-12-02 15:30...|ORLY|  1.7027725773379658|\n",
      "|[2024-12-02 15:30...| BXP| -2.4023614895549597|\n",
      "|[2024-12-02 15:30...| ADS|                 0.0|\n",
      "|[2024-12-02 15:30...| PKG|                 0.0|\n",
      "|[2024-12-02 15:30...| MAT| -1.6229435304579902|\n",
      "|[2024-12-02 15:30...| XYL| -1.3410656034795252|\n",
      "|[2024-12-02 15:30...| CHD|                 0.0|\n",
      "|[2024-12-02 15:30...|  HD|                 0.0|\n",
      "|[2024-12-02 15:30...|  IT|                 0.0|\n",
      "|[2024-12-02 15:30...| SPG|                 0.0|\n",
      "|[2024-12-02 15:30...| CAH|                 0.0|\n",
      "|[2024-12-02 15:30...| IBM|                 0.0|\n",
      "|[2024-12-02 15:30...| TIF|-0.05036514731804588|\n",
      "+--------------------+----+--------------------+\n",
      "only showing top 20 rows\n",
      "\n"
     ]
    },
    {
     "name": "stderr",
     "output_type": "stream",
     "text": [
      "                                                                                \r"
     ]
    },
    {
     "name": "stdout",
     "output_type": "stream",
     "text": [
      "-------------------------------------------\n",
      "Batch: 63\n",
      "-------------------------------------------\n",
      "+--------------------+-----+-------------------+\n",
      "|              window| name|       value_change|\n",
      "+--------------------+-----+-------------------+\n",
      "|[2024-12-03 12:00...|DISCA|  4.727954971857412|\n",
      "|[2024-12-03 12:00...| ULTA| 0.6109510086455345|\n",
      "|[2024-12-03 12:00...|    K| -2.679723677218554|\n",
      "|[2024-12-03 12:00...|  LOW| 1.1680726800778698|\n",
      "|[2024-12-03 12:00...|  HAS| -2.609026852028194|\n",
      "|[2024-12-03 12:00...|  MHK| 3.6743155336335596|\n",
      "|[2024-12-03 12:00...|   IR|-1.3279542780299196|\n",
      "|[2024-12-03 12:00...|  MRO|-0.5793103448275886|\n",
      "|[2024-12-03 12:00...| ANSS|   2.61895501102035|\n",
      "|[2024-12-03 12:00...|  WMT| -4.131442596127626|\n",
      "|[2024-12-03 12:00...|   PM|-2.7794204612655338|\n",
      "|[2024-12-03 12:00...|  PLD|                0.0|\n",
      "|[2024-12-03 12:00...|  PGR| 0.4672897196261721|\n",
      "|[2024-12-03 12:00...|  MAT| 14.539795464650956|\n",
      "|[2024-12-03 12:00...|  KIM| -4.156257097433564|\n",
      "|[2024-12-03 12:00...| ZION| -4.988994864269991|\n",
      "|[2024-12-03 12:00...|  FCX| 3.7537951973502612|\n",
      "|[2024-12-03 12:00...|   RL| 13.896884477529639|\n",
      "|[2024-12-03 12:00...|  DRE| -2.750291036088476|\n",
      "|[2024-12-03 12:00...|  REG| 1.4011799410029593|\n",
      "+--------------------+-----+-------------------+\n",
      "only showing top 20 rows\n",
      "\n"
     ]
    },
    {
     "name": "stderr",
     "output_type": "stream",
     "text": [
      "                                                                                \r"
     ]
    },
    {
     "name": "stdout",
     "output_type": "stream",
     "text": [
      "-------------------------------------------\n",
      "Batch: 4\n",
      "-------------------------------------------\n",
      "+--------------------+----+-------------------+\n",
      "|              window|name|       value_change|\n",
      "+--------------------+----+-------------------+\n",
      "|[2024-12-02 15:30...|  BK|                0.0|\n",
      "|[2024-12-02 15:30...|PRGO|                0.0|\n",
      "|[2024-12-02 15:30...| ESS| 2.6874979908059324|\n",
      "|[2024-12-02 15:30...|  LB| 1.7094017094017007|\n",
      "|[2024-12-02 15:30...| SYK| -4.949277589916997|\n",
      "|[2024-12-02 15:30...| GLW|                0.0|\n",
      "|[2024-12-02 15:30...| HCP| 12.902625209458202|\n",
      "|[2024-12-02 15:30...| NEE|-3.6845348120763957|\n",
      "|[2024-12-02 15:30...|CHRW| -4.392943618125215|\n",
      "|[2024-12-02 15:30...| APH|                0.0|\n",
      "|[2024-12-02 15:30...| AMD|                0.0|\n",
      "|[2024-12-02 15:30...| NUE|                0.0|\n",
      "|[2024-12-02 15:30...| XYL|  3.479521565784708|\n",
      "|[2024-12-02 15:30...|  WM|                0.0|\n",
      "|[2024-12-02 15:30...|  HD|   2.03896103896103|\n",
      "|[2024-12-02 15:30...| AAP|                0.0|\n",
      "|[2024-12-02 15:30...| EOG|-1.8888713993388995|\n",
      "|[2024-12-02 15:30...| BSX|                0.0|\n",
      "|[2024-12-02 15:30...| APD|                0.0|\n",
      "|[2024-12-02 15:30...| LEG|                0.0|\n",
      "+--------------------+----+-------------------+\n",
      "only showing top 20 rows\n",
      "\n"
     ]
    },
    {
     "name": "stderr",
     "output_type": "stream",
     "text": [
      "                                                                                \r"
     ]
    },
    {
     "name": "stdout",
     "output_type": "stream",
     "text": [
      "-------------------------------------------\n",
      "Batch: 64\n",
      "-------------------------------------------\n",
      "+--------------------+-----+--------------------+\n",
      "|              window| name|        value_change|\n",
      "+--------------------+-----+--------------------+\n",
      "|[2024-12-03 12:00...|DISCA| -0.8880550343964899|\n",
      "|[2024-12-03 12:00...|  GPS|-0.36179450072358554|\n",
      "|[2024-12-03 12:00...|    T|   7.031042716901031|\n",
      "|[2024-12-03 12:00...|  LOW|  0.8652390222799018|\n",
      "|[2024-12-03 12:00...| CSCO|  0.1620089104900879|\n",
      "|[2024-12-03 12:00...|  STT|  3.6095870632399647|\n",
      "|[2024-12-03 12:00...|  NEM|   12.27134146341463|\n",
      "|[2024-12-03 12:00...|  PVH|  1.6662458975006345|\n",
      "|[2024-12-03 12:00...|  AMP|  -2.319271836163129|\n",
      "|[2024-12-03 12:00...|  EXC|  1.9478774852230023|\n",
      "|[2024-12-03 12:00...|   PM|  -4.742755765819048|\n",
      "|[2024-12-03 12:00...|  PGR|  1.3629283489096629|\n",
      "|[2024-12-03 12:00...|  WYN| -1.6609938733832523|\n",
      "|[2024-12-03 12:00...|  MKC|  -1.773301177471982|\n",
      "|[2024-12-03 12:00...|   WU|   8.872767857142875|\n",
      "|[2024-12-03 12:00...|   EL|                 0.0|\n",
      "|[2024-12-03 12:00...|  DRE|  -2.910360884749709|\n",
      "|[2024-12-03 12:00...|  SYY|                 0.0|\n",
      "|[2024-12-03 12:00...|  TJX|   8.494015957446809|\n",
      "|[2024-12-03 12:00...|  BAX|  -4.896797153024908|\n",
      "+--------------------+-----+--------------------+\n",
      "only showing top 20 rows\n",
      "\n"
     ]
    },
    {
     "name": "stderr",
     "output_type": "stream",
     "text": [
      "                                                                                \r"
     ]
    },
    {
     "name": "stdout",
     "output_type": "stream",
     "text": [
      "-------------------------------------------\n",
      "Batch: 5\n",
      "-------------------------------------------\n",
      "+--------------------+----+-------------------+\n",
      "|              window|name|       value_change|\n",
      "+--------------------+----+-------------------+\n",
      "|[2024-12-02 15:30...| CBG| 1.2903225806451624|\n",
      "|[2024-12-02 15:30...| ESS|-2.9093130163628804|\n",
      "|[2024-12-02 15:30...| ACN|  4.285714285714282|\n",
      "|[2024-12-02 15:30...| CPB|                0.0|\n",
      "|[2024-12-02 15:30...| SWK|-3.2019704433497465|\n",
      "|[2024-12-02 15:30...| NOV|-3.9636127355425668|\n",
      "|[2024-12-02 15:30...|ROST|                0.0|\n",
      "|[2024-12-02 15:30...| IRM|                0.0|\n",
      "|[2024-12-02 15:30...|BF.B|                0.0|\n",
      "|[2024-12-02 15:30...|  HD| -3.974025974025977|\n",
      "|[2024-12-02 15:30...| AAL|                0.0|\n",
      "|[2024-12-02 15:30...|   K|                0.0|\n",
      "|[2024-12-02 15:30...| UTX|                0.0|\n",
      "|[2024-12-02 15:30...| PNW|                0.0|\n",
      "|[2024-12-02 15:30...| MOS|                0.0|\n",
      "|[2024-12-02 15:30...| LEG| 2.0359431946713578|\n",
      "|[2024-12-02 15:30...| AIG|                0.0|\n",
      "|[2024-12-02 15:30...| TXN|                0.0|\n",
      "|[2024-12-02 15:30...| TIF|0.05036514731806378|\n",
      "|[2024-12-02 15:30...|CDNS|                0.0|\n",
      "+--------------------+----+-------------------+\n",
      "only showing top 20 rows\n",
      "\n"
     ]
    },
    {
     "name": "stderr",
     "output_type": "stream",
     "text": [
      "                                                                                \r"
     ]
    },
    {
     "name": "stdout",
     "output_type": "stream",
     "text": [
      "-------------------------------------------\n",
      "Batch: 65\n",
      "-------------------------------------------\n",
      "+--------------------+----+-------------------+\n",
      "|              window|name|       value_change|\n",
      "+--------------------+----+-------------------+\n",
      "|[2024-12-03 12:00...|JBHT|-1.4517006802720995|\n",
      "|[2024-12-03 12:00...| MTB| -4.311816939890708|\n",
      "|[2024-12-03 12:00...|   T|  4.828867073494297|\n",
      "|[2024-12-03 12:00...|   K|-1.3132923403932426|\n",
      "|[2024-12-03 12:00...|CSCO|-3.8882138517618356|\n",
      "|[2024-12-03 12:00...|ESRX|-3.0787448194197724|\n",
      "|[2024-12-03 12:00...| EFX|                0.0|\n",
      "|[2024-12-03 12:00...|NTAP|  7.060554057367008|\n",
      "|[2024-12-03 12:00...| MAA| 2.4552975713904504|\n",
      "|[2024-12-03 12:00...| MKC|-1.3193360760391644|\n",
      "|[2024-12-03 12:00...| STX|                0.0|\n",
      "|[2024-12-03 12:00...|  WU| 1.5904017857142863|\n",
      "|[2024-12-03 12:00...| RHT|  7.218221403450012|\n",
      "|[2024-12-03 12:00...| JPM|  -3.31244404655327|\n",
      "|[2024-12-03 12:00...|  LH| -4.131227217496961|\n",
      "|[2024-12-03 12:00...| TRV|                0.0|\n",
      "|[2024-12-03 12:00...| SYY|0.08103727714749091|\n",
      "|[2024-12-03 12:00...| TJX| 10.588430851063826|\n",
      "|[2024-12-03 12:00...| HCN|  15.34990233717249|\n",
      "|[2024-12-03 12:00...| HSY|-0.3816793893129818|\n",
      "+--------------------+----+-------------------+\n",
      "only showing top 20 rows\n",
      "\n"
     ]
    },
    {
     "name": "stderr",
     "output_type": "stream",
     "text": [
      "                                                                                \r"
     ]
    },
    {
     "name": "stdout",
     "output_type": "stream",
     "text": [
      "-------------------------------------------\n",
      "Batch: 6\n",
      "-------------------------------------------\n",
      "+--------------------+----+-------------------+\n",
      "|              window|name|       value_change|\n",
      "+--------------------+----+-------------------+\n",
      "|[2024-12-02 15:35...| RRC|                0.0|\n",
      "|[2024-12-02 15:35...| CMI|                0.0|\n",
      "|[2024-12-02 15:30...| WEC|                0.0|\n",
      "|[2024-12-02 15:35...| TEL|                0.0|\n",
      "|[2024-12-02 15:35...| DFS|                0.0|\n",
      "|[2024-12-02 15:35...| CAH|                0.0|\n",
      "|[2024-12-02 15:35...| BLL|                0.0|\n",
      "|[2024-12-02 15:35...| AME|                0.0|\n",
      "|[2024-12-02 15:35...| PSA|                0.0|\n",
      "|[2024-12-02 15:35...| NBL| -3.534538411878639|\n",
      "|[2024-12-02 15:30...| WBA|                0.0|\n",
      "|[2024-12-02 15:30...| TWX|                0.0|\n",
      "|[2024-12-02 15:35...| OMC|                0.0|\n",
      "|[2024-12-02 15:35...| ADM|                0.0|\n",
      "|[2024-12-02 15:35...| PPL|                0.0|\n",
      "|[2024-12-02 15:35...| XEL|                0.0|\n",
      "|[2024-12-02 15:35...| DVN|                0.0|\n",
      "|[2024-12-02 15:30...| HST|-3.1306441902468367|\n",
      "|[2024-12-02 15:35...|  XL|                0.0|\n",
      "|[2024-12-02 15:35...| WFC|                0.0|\n",
      "+--------------------+----+-------------------+\n",
      "only showing top 20 rows\n",
      "\n"
     ]
    },
    {
     "name": "stderr",
     "output_type": "stream",
     "text": [
      "                                                                                \r"
     ]
    },
    {
     "name": "stdout",
     "output_type": "stream",
     "text": [
      "-------------------------------------------\n",
      "Batch: 66\n",
      "-------------------------------------------\n",
      "+--------------------+----+-------------------+\n",
      "|              window|name|       value_change|\n",
      "+--------------------+----+-------------------+\n",
      "|[2024-12-03 12:00...|   K|0.20496470052378488|\n",
      "|[2024-12-03 12:00...|CSCO|-2.7541514783313072|\n",
      "|[2024-12-03 12:00...| STT| -1.949177014149573|\n",
      "|[2024-12-03 12:00...| ABC|                0.0|\n",
      "|[2024-12-03 12:00...| NEM| 1.9435975609756024|\n",
      "|[2024-12-03 12:00...|CERN|  3.919765984120361|\n",
      "|[2024-12-03 12:00...|VRSN|   8.69063324538259|\n",
      "|[2024-12-03 12:00...|TROW|                0.0|\n",
      "|[2024-12-03 12:00...| CLX| -4.027777777777765|\n",
      "|[2024-12-03 12:00...| EXC|  15.30091348737238|\n",
      "|[2024-12-03 12:00...| EFX| -3.521320495185697|\n",
      "|[2024-12-03 12:00...| PGR|  8.566978193146415|\n",
      "|[2024-12-03 12:00...|  PG|-1.2100369379696707|\n",
      "|[2024-12-03 12:00...|PDCO|  4.341603053435115|\n",
      "|[2024-12-03 12:00...| SCG| 2.0051655318149715|\n",
      "|[2024-12-03 12:00...| RHT| 0.5861664712778453|\n",
      "|[2024-12-03 12:00...|  EL| 3.2577534532186605|\n",
      "|[2024-12-03 12:00...| CRM| -4.156339370829361|\n",
      "|[2024-12-03 12:00...|CINF| 11.641509433962268|\n",
      "|[2024-12-03 12:00...| DLR| 1.5940307314838629|\n",
      "+--------------------+----+-------------------+\n",
      "only showing top 20 rows\n",
      "\n"
     ]
    },
    {
     "name": "stderr",
     "output_type": "stream",
     "text": [
      "                                                                                \r"
     ]
    },
    {
     "name": "stdout",
     "output_type": "stream",
     "text": [
      "-------------------------------------------\n",
      "Batch: 7\n",
      "-------------------------------------------\n",
      "+--------------------+-----+-----------------+\n",
      "|              window| name|     value_change|\n",
      "+--------------------+-----+-----------------+\n",
      "|[2024-12-02 18:35...|  USB|              0.0|\n",
      "|[2024-12-02 15:35...|  WEC|              0.0|\n",
      "|[2024-12-02 15:35...|  AON|              0.0|\n",
      "|[2024-12-02 15:35...|  CCI|              0.0|\n",
      "|[2024-12-02 20:05...|  GPC|              0.0|\n",
      "|[2024-12-02 18:35...| JNPR|              0.0|\n",
      "|[2024-12-02 15:35...|  BLL|-2.33995584988963|\n",
      "|[2024-12-02 15:35...| ORCL|              0.0|\n",
      "|[2024-12-02 15:35...|GOOGL|              0.0|\n",
      "|[2024-12-02 18:35...|  NSC|              0.0|\n",
      "|[2024-12-02 20:05...|  EMR|              0.0|\n",
      "|[2024-12-02 20:05...|  WMT|              0.0|\n",
      "|[2024-12-02 20:05...|  DFS|              0.0|\n",
      "|[2024-12-02 15:35...| PRGO|              0.0|\n",
      "|[2024-12-02 18:35...|  SLB|              0.0|\n",
      "|[2024-12-02 15:35...|  TXT|              0.0|\n",
      "|[2024-12-02 18:35...| HOLX|              0.0|\n",
      "|[2024-12-02 15:35...| BIIB|              0.0|\n",
      "|[2024-12-02 18:35...|  PEP|              0.0|\n",
      "|[2024-12-02 18:35...|  KMI|              0.0|\n",
      "+--------------------+-----+-----------------+\n",
      "only showing top 20 rows\n",
      "\n"
     ]
    },
    {
     "name": "stderr",
     "output_type": "stream",
     "text": [
      "                                                                                \r"
     ]
    },
    {
     "name": "stdout",
     "output_type": "stream",
     "text": [
      "-------------------------------------------\n",
      "Batch: 67\n",
      "-------------------------------------------\n",
      "+--------------------+----+-------------------+\n",
      "|              window|name|       value_change|\n",
      "+--------------------+----+-------------------+\n",
      "|[2024-12-03 12:00...| EQR|                0.0|\n",
      "|[2024-12-03 12:00...|CSCO| -2.065613608748473|\n",
      "|[2024-12-03 12:00...| KMI| -3.963180772181021|\n",
      "|[2024-12-03 12:00...| ETN|0.38532895675752254|\n",
      "|[2024-12-03 12:00...| MAT| 23.743886171631836|\n",
      "|[2024-12-03 12:00...| SYF|                0.0|\n",
      "|[2024-12-03 12:00...| MAA|  7.859621030157459|\n",
      "|[2024-12-03 12:00...|  WU|  6.417410714285726|\n",
      "|[2024-12-03 12:00...|VIAB| -2.372331127481573|\n",
      "|[2024-12-03 12:00...| PCG| -4.838709677419344|\n",
      "|[2024-12-03 12:00...|  GE| 1.7669172932330919|\n",
      "|[2024-12-03 12:00...| KMB|-3.3072817384674025|\n",
      "|[2024-12-03 12:00...| BBY|                0.0|\n",
      "|[2024-12-03 12:00...| ALB|-0.5050505050505055|\n",
      "|[2024-12-03 12:00...| ROK| -4.672913845934591|\n",
      "|[2024-12-03 12:00...| IBM|  10.01981318992357|\n",
      "|[2024-12-03 12:00...| HCP| 18.339229193818657|\n",
      "|[2024-12-03 12:00...| LKQ| 16.811117752540348|\n",
      "|[2024-12-03 12:00...|HSIC| 1.3455913079816126|\n",
      "|[2024-12-03 12:00...|CTSH|  9.463785514205677|\n",
      "+--------------------+----+-------------------+\n",
      "only showing top 20 rows\n",
      "\n"
     ]
    },
    {
     "name": "stderr",
     "output_type": "stream",
     "text": [
      "                                                                                \r"
     ]
    },
    {
     "name": "stdout",
     "output_type": "stream",
     "text": [
      "-------------------------------------------\n",
      "Batch: 8\n",
      "-------------------------------------------\n",
      "+--------------------+----+--------------------+\n",
      "|              window|name|        value_change|\n",
      "+--------------------+----+--------------------+\n",
      "|[2024-12-02 20:05...| UNP|                 0.0|\n",
      "|[2024-12-02 20:05...|SBAC|                 0.0|\n",
      "|[2024-12-02 20:05...|  MA|                 0.0|\n",
      "|[2024-12-02 20:05...| CMI|                 0.0|\n",
      "|[2024-12-02 20:05...| AEP|                 0.0|\n",
      "|[2024-12-02 20:05...|  BA|                 0.0|\n",
      "|[2024-12-02 20:05...| BLL|                 0.0|\n",
      "|[2024-12-02 20:05...| GPC|0.012403870007448668|\n",
      "|[2024-12-02 20:05...| DHR|                 0.0|\n",
      "|[2024-12-02 20:05...| EOG|                 0.0|\n",
      "|[2024-12-02 20:05...| MHK|                 0.0|\n",
      "|[2024-12-02 20:05...| CMA|                 0.0|\n",
      "|[2024-12-02 20:05...| CHK|                 0.0|\n",
      "|[2024-12-02 20:05...|FOXA|                 0.0|\n",
      "|[2024-12-02 20:05...| ROP|                 0.0|\n",
      "|[2024-12-02 20:05...|WYNN|                 0.0|\n",
      "|[2024-12-02 20:05...| TDG|                 0.0|\n",
      "|[2024-12-02 20:05...| ECL|                 0.0|\n",
      "|[2024-12-02 20:05...|ALXN|                 0.0|\n",
      "|[2024-12-02 20:05...| ICE|                 0.0|\n",
      "+--------------------+----+--------------------+\n",
      "only showing top 20 rows\n",
      "\n"
     ]
    },
    {
     "name": "stderr",
     "output_type": "stream",
     "text": [
      "                                                                                \r"
     ]
    },
    {
     "name": "stdout",
     "output_type": "stream",
     "text": [
      "-------------------------------------------\n",
      "Batch: 68\n",
      "-------------------------------------------\n",
      "+--------------------+----+-------------------+\n",
      "|              window|name|       value_change|\n",
      "+--------------------+----+-------------------+\n",
      "|[2024-12-03 12:00...|JBHT|-1.1972789115646196|\n",
      "|[2024-12-03 12:00...| RTN|  5.128038578880031|\n",
      "|[2024-12-03 12:00...| XOM|-2.6298415492957754|\n",
      "|[2024-12-03 12:00...| PVH| -4.098291677185899|\n",
      "|[2024-12-03 12:00...| AMP|-0.9802205496236569|\n",
      "|[2024-12-03 12:00...| KEY|-1.5234374999999885|\n",
      "|[2024-12-03 12:00...|JNPR| -4.764150943396234|\n",
      "|[2024-12-03 12:00...|NTAP|  4.756067663643044|\n",
      "|[2024-12-03 12:00...| KIM|-0.1135589370883424|\n",
      "|[2024-12-03 12:00...|  GM|-1.7215342796738156|\n",
      "|[2024-12-03 12:00...| SWK| -4.880668257756567|\n",
      "|[2024-12-03 12:00...| HCN| 14.420421634000133|\n",
      "|[2024-12-03 12:00...| BBY|  5.132905591200722|\n",
      "|[2024-12-03 12:00...| APA| 15.066418084362612|\n",
      "|[2024-12-03 12:00...|   F| 18.255813953488364|\n",
      "|[2024-12-03 12:00...| RMD|0.05948839976204866|\n",
      "|[2024-12-03 12:00...| TGT|  8.528258027023098|\n",
      "|[2024-12-03 12:00...|XLNX| 17.666374781085814|\n",
      "|[2024-12-03 12:00...| KMX| -1.087420042643919|\n",
      "|[2024-12-03 12:00...| MOS|  7.075892857142846|\n",
      "+--------------------+----+-------------------+\n",
      "only showing top 20 rows\n",
      "\n"
     ]
    },
    {
     "name": "stderr",
     "output_type": "stream",
     "text": [
      "                                                                                \r"
     ]
    },
    {
     "name": "stdout",
     "output_type": "stream",
     "text": [
      "-------------------------------------------\n",
      "Batch: 9\n",
      "-------------------------------------------\n",
      "+--------------------+----+------------------+\n",
      "|              window|name|      value_change|\n",
      "+--------------------+----+------------------+\n",
      "|[2024-12-02 20:10...|FOXA|               0.0|\n",
      "|[2024-12-02 20:10...| JCI|0.6579443386126395|\n",
      "|[2024-12-02 20:10...| EQT|               0.0|\n",
      "|[2024-12-02 20:10...|FITB|               0.0|\n",
      "|[2024-12-02 20:10...| FOX|               0.0|\n",
      "|[2024-12-02 20:10...| MLM|               0.0|\n",
      "|[2024-12-02 20:10...|COTY|               0.0|\n",
      "|[2024-12-02 20:10...|AKAM|               0.0|\n",
      "|[2024-12-02 20:05...|  KR|               0.0|\n",
      "|[2024-12-02 20:10...| STZ|               0.0|\n",
      "|[2024-12-02 20:10...| MTD|               0.0|\n",
      "|[2024-12-02 20:10...| VAR|               0.0|\n",
      "|[2024-12-02 20:10...|  PH|               0.0|\n",
      "|[2024-12-02 20:10...|ESRX|               0.0|\n",
      "|[2024-12-02 20:10...| UAA|               0.0|\n",
      "|[2024-12-02 20:05...| IBM|               0.0|\n",
      "|[2024-12-02 20:10...|ORCL|               0.0|\n",
      "|[2024-12-02 20:05...|NTAP|               0.0|\n",
      "|[2024-12-02 20:10...|NFLX|               0.0|\n",
      "|[2024-12-02 20:10...|  EA|               0.0|\n",
      "+--------------------+----+------------------+\n",
      "only showing top 20 rows\n",
      "\n"
     ]
    },
    {
     "name": "stderr",
     "output_type": "stream",
     "text": [
      "2024-12-04 20:23:30,341 - INFO - Callback Connection ready to receive messages1]\n",
      "2024-12-04 20:23:30,396 - INFO - Received command g on object id p1 (0 + 0) / 1]\n",
      "                                                                                \r"
     ]
    },
    {
     "name": "stdout",
     "output_type": "stream",
     "text": [
      "-------------------------------------------\n",
      "Batch: 69\n",
      "-------------------------------------------\n",
      "+--------------------+-----+-------------------+\n",
      "|              window| name|       value_change|\n",
      "+--------------------+-----+-------------------+\n",
      "|[2024-12-03 12:00...|DISCA| 59.124452782989366|\n",
      "|[2024-12-03 12:00...| INFO|                0.0|\n",
      "|[2024-12-03 12:00...| FLIR|  8.814589665653491|\n",
      "|[2024-12-03 12:00...|  GPS|   8.12831644958996|\n",
      "|[2024-12-03 12:00...|  TMK|   0.79985119047619|\n",
      "|[2024-12-03 12:00...| TROW|-0.1150747986191068|\n",
      "|[2024-12-03 12:00...| PDCO|-0.7156488549618253|\n",
      "|[2024-12-03 12:00...|  LLY|                0.0|\n",
      "|[2024-12-03 12:00...|  RRC|  9.427820207837737|\n",
      "|[2024-12-03 12:00...| CINF|  6.924528301886795|\n",
      "|[2024-12-03 12:00...|  GIS| -0.790369096231849|\n",
      "|[2024-12-03 12:00...|  NBL| 10.087153001936732|\n",
      "|[2024-12-03 12:00...|  HCN|  4.068161918232635|\n",
      "|[2024-12-03 12:00...| FBHS|  7.897071872227142|\n",
      "|[2024-12-03 12:00...|  CPB| 3.3512352309344693|\n",
      "|[2024-12-03 12:00...|  BWA| -4.973214285714279|\n",
      "|[2024-12-03 12:00...|  PKI|-3.3902267944821034|\n",
      "|[2024-12-03 12:00...|  NWS| 11.104548139397513|\n",
      "+--------------------+-----+-------------------+\n",
      "\n"
     ]
    },
    {
     "name": "stderr",
     "output_type": "stream",
     "text": [
      "[Stage 171:============>(193 + 7) / 200][Stage 172:>                (0 + 1) / 1]\r"
     ]
    },
    {
     "name": "stdout",
     "output_type": "stream",
     "text": [
      "-------------------------------------------\n",
      "Batch: 10\n",
      "-------------------------------------------\n",
      "+--------------------+----+-------------------+\n",
      "|              window|name|       value_change|\n",
      "+--------------------+----+-------------------+\n",
      "|[2024-12-02 20:10...|FOXA| -4.803362353647536|\n",
      "|[2024-12-02 20:10...| SEE|                0.0|\n",
      "|[2024-12-02 20:10...|FITB|-2.4478914202617674|\n",
      "|[2024-12-02 20:10...|  MU|                0.0|\n",
      "|[2024-12-02 20:10...| CMG|                0.0|\n",
      "|[2024-12-02 20:10...| AAP|                0.0|\n",
      "|[2024-12-02 20:10...| ETR|                0.0|\n",
      "|[2024-12-02 20:10...|FAST|                0.0|\n",
      "|[2024-12-02 20:10...| VNO|                0.0|\n",
      "|[2024-12-02 20:10...|  PM|                0.0|\n",
      "|[2024-12-02 20:10...| BWA|                0.0|\n",
      "|[2024-12-02 20:10...| NEM|                0.0|\n",
      "|[2024-12-02 20:10...|CHRW|                0.0|\n",
      "|[2024-12-02 20:10...| NKE|                0.0|\n",
      "|[2024-12-02 20:10...| FCX|                0.0|\n",
      "|[2024-12-02 20:10...| DAL|                0.0|\n",
      "|[2024-12-02 20:10...| HUM|                0.0|\n",
      "|[2024-12-02 20:10...| VMC|                0.0|\n",
      "|[2024-12-02 20:10...| IQV|                0.0|\n",
      "|[2024-12-02 20:10...|  CA|-0.3780432481475881|\n",
      "+--------------------+----+-------------------+\n",
      "only showing top 20 rows\n",
      "\n"
     ]
    },
    {
     "name": "stderr",
     "output_type": "stream",
     "text": [
      "                                                                                \r"
     ]
    },
    {
     "name": "stdout",
     "output_type": "stream",
     "text": [
      "-------------------------------------------\n",
      "Batch: 70\n",
      "-------------------------------------------\n",
      "+--------------------+----+-------------------+\n",
      "|              window|name|       value_change|\n",
      "+--------------------+----+-------------------+\n",
      "|[2024-12-03 12:00...| GPS|  4.365653642064646|\n",
      "|[2024-12-03 12:00...| FTI|-1.9613471106008393|\n",
      "|[2024-12-03 12:00...| XOM|0.16505281690139909|\n",
      "|[2024-12-03 12:00...| HRL|                0.0|\n",
      "|[2024-12-03 12:00...| KMI| -2.838148811045767|\n",
      "|[2024-12-03 12:00...|FAST| -0.630571863448574|\n",
      "|[2024-12-03 12:00...| MRO|  22.84137931034483|\n",
      "|[2024-12-03 12:00...| CVX|-0.5326344267838987|\n",
      "|[2024-12-03 12:00...|VRSN| 0.6431398416886552|\n",
      "|[2024-12-03 12:00...| EXC|  4.110693175711986|\n",
      "|[2024-12-03 12:00...|EBAY| -2.090975788701382|\n",
      "|[2024-12-03 12:00...|KORS| -2.441627751834554|\n",
      "|[2024-12-03 12:00...| BAX|-3.3594306049822054|\n",
      "|[2024-12-03 12:00...| BBT|-1.7347211102215068|\n",
      "|[2024-12-03 12:00...|SBUX|-3.3090794052514956|\n",
      "|[2024-12-03 12:00...|NTRS|                0.0|\n",
      "|[2024-12-03 12:00...|SYMC| -2.681072428971596|\n",
      "|[2024-12-03 12:00...| JWN| -2.246737521861969|\n",
      "|[2024-12-03 12:00...| PKI| -2.571896188917452|\n",
      "|[2024-12-03 12:00...| NWS| 10.041346721795625|\n",
      "+--------------------+----+-------------------+\n",
      "only showing top 20 rows\n",
      "\n"
     ]
    },
    {
     "name": "stderr",
     "output_type": "stream",
     "text": [
      "                                                                                \r"
     ]
    },
    {
     "name": "stdout",
     "output_type": "stream",
     "text": [
      "-------------------------------------------\n",
      "Batch: 11\n",
      "-------------------------------------------\n",
      "+--------------------+----+--------------------+\n",
      "|              window|name|        value_change|\n",
      "+--------------------+----+--------------------+\n",
      "|[2024-12-02 20:10...|  RF|                 0.0|\n",
      "|[2024-12-02 20:10...| SEE|   7.318545344801561|\n",
      "|[2024-12-02 20:10...|FITB| -2.3267086766844423|\n",
      "|[2024-12-02 20:10...| FOX|  2.2664624808575757|\n",
      "|[2024-12-02 20:10...| NOV|                 0.0|\n",
      "|[2024-12-02 20:10...|  MU| -0.7206443408223896|\n",
      "|[2024-12-02 20:10...| CMG|   8.345149392742725|\n",
      "|[2024-12-02 20:10...|PAYX|                 0.0|\n",
      "|[2024-12-02 20:10...|FISV|-0.05330490405117...|\n",
      "|[2024-12-02 20:10...| APH|                 0.0|\n",
      "|[2024-12-02 20:10...| NRG|                 0.0|\n",
      "|[2024-12-02 20:10...| MAC|                 0.0|\n",
      "|[2024-12-02 20:10...|  PM|    5.97279716144293|\n",
      "|[2024-12-02 20:10...|ABBV|   4.006284367635505|\n",
      "|[2024-12-02 20:10...|AKAM|  -4.819014391626692|\n",
      "|[2024-12-02 20:10...| DIS|                 0.0|\n",
      "|[2024-12-02 20:10...| MTD| -0.8092624494210896|\n",
      "|[2024-12-02 20:10...| CHK|   8.876384098747504|\n",
      "|[2024-12-02 20:10...|  PH|  3.8261015808947167|\n",
      "|[2024-12-02 20:10...| FCX|   10.17112889870272|\n",
      "+--------------------+----+--------------------+\n",
      "only showing top 20 rows\n",
      "\n"
     ]
    },
    {
     "name": "stderr",
     "output_type": "stream",
     "text": [
      "                                                                                \r"
     ]
    },
    {
     "name": "stdout",
     "output_type": "stream",
     "text": [
      "-------------------------------------------\n",
      "Batch: 71\n",
      "-------------------------------------------\n",
      "+--------------------+----+-------------------+\n",
      "|              window|name|       value_change|\n",
      "+--------------------+----+-------------------+\n",
      "|[2024-12-03 12:00...|GOOG|                0.0|\n",
      "|[2024-12-03 12:00...|FAST| -4.066101326375293|\n",
      "|[2024-12-03 12:00...| CVX|   9.89178221170105|\n",
      "|[2024-12-03 12:00...| TMK| 1.3020833333333255|\n",
      "|[2024-12-03 12:00...|EBAY| -3.484959647835654|\n",
      "|[2024-12-03 12:00...| RHT| -3.416513146876569|\n",
      "|[2024-12-03 12:00...| PSX|  8.914144871970429|\n",
      "|[2024-12-03 12:00...| RRC|  39.58933266558157|\n",
      "|[2024-12-03 12:00...| AMD|  34.14634146341463|\n",
      "|[2024-12-03 12:00...|CINF|  2.773584905660375|\n",
      "|[2024-12-03 12:00...| NBL| 28.631375080697225|\n",
      "|[2024-12-03 12:00...| PFE|-3.1832797427652797|\n",
      "|[2024-12-03 12:00...| BBT| 3.3626901521216923|\n",
      "|[2024-12-03 12:00...| DOV|  6.310987200608276|\n",
      "|[2024-12-03 12:00...| ALB|   7.02335858585859|\n",
      "|[2024-12-03 12:00...| CPB|-1.7185821697099986|\n",
      "|[2024-12-03 12:00...|  FE| -4.924760601915197|\n",
      "|[2024-12-03 12:00...| OKE|  6.176497823872583|\n",
      "|[2024-12-03 12:00...| FMC| 24.089963598543942|\n",
      "|[2024-12-03 12:00...| NRG| -2.067229911918027|\n",
      "+--------------------+----+-------------------+\n",
      "only showing top 20 rows\n",
      "\n"
     ]
    },
    {
     "name": "stderr",
     "output_type": "stream",
     "text": [
      "2024-12-04 20:24:02,478 - INFO - Received command  on object id     (0 + 0) / 1]\n",
      "2024-12-04 20:24:02,492 - INFO - Closing down callback connection\n",
      "                                                                                \r"
     ]
    },
    {
     "name": "stdout",
     "output_type": "stream",
     "text": [
      "-------------------------------------------\n",
      "Batch: 12\n",
      "-------------------------------------------\n",
      "+--------------------+----+------------------+\n",
      "|              window|name|      value_change|\n",
      "+--------------------+----+------------------+\n",
      "|[2024-12-02 20:10...|  RF| 2.262016965127241|\n",
      "|[2024-12-02 20:10...| FOX|-3.124042879019918|\n",
      "|[2024-12-02 20:10...|NWSA|               0.0|\n",
      "|[2024-12-02 20:10...|PAYX| 1.284317190998001|\n",
      "|[2024-12-02 20:10...|COTY| 6.641837368094353|\n",
      "|[2024-12-02 20:10...| MTD|0.4567124714554764|\n",
      "|[2024-12-02 20:10...| NEM| 3.175241157556267|\n",
      "|[2024-12-02 20:10...|  VZ|               0.0|\n",
      "|[2024-12-02 20:10...|ORLY| 4.291887011479428|\n",
      "|[2024-12-02 20:10...| AAL|               0.0|\n",
      "|[2024-12-02 20:10...|  WM|               0.0|\n",
      "|[2024-12-02 20:10...|  WY| 2.026143790849676|\n",
      "|[2024-12-02 20:10...|DISH|               0.0|\n",
      "|[2024-12-02 20:10...| PCG|               0.0|\n",
      "|[2024-12-02 20:10...|  XL| 1.450676982591874|\n",
      "|[2024-12-02 20:10...|  BK| 3.117782909930711|\n",
      "|[2024-12-02 20:10...| IFF|               0.0|\n",
      "|[2024-12-02 20:10...|  DG|               0.0|\n",
      "|[2024-12-02 20:10...| BDX|               0.0|\n",
      "|[2024-12-02 20:10...|SCHW|               0.0|\n",
      "+--------------------+----+------------------+\n",
      "only showing top 20 rows\n",
      "\n"
     ]
    },
    {
     "name": "stderr",
     "output_type": "stream",
     "text": [
      "                                                                                \r"
     ]
    },
    {
     "name": "stdout",
     "output_type": "stream",
     "text": [
      "-------------------------------------------\n",
      "Batch: 72\n",
      "-------------------------------------------\n",
      "+--------------------+----+-------------------+\n",
      "|              window|name|       value_change|\n",
      "+--------------------+----+-------------------+\n",
      "|[2024-12-03 12:00...| STT| -4.389257868899786|\n",
      "|[2024-12-03 12:00...|FAST|  6.653620352250495|\n",
      "|[2024-12-03 12:00...|WYNN|  4.584754018509499|\n",
      "|[2024-12-03 12:00...| CFG|                0.0|\n",
      "|[2024-12-03 12:00...| NEM|  6.249999999999989|\n",
      "|[2024-12-03 12:00...| MAT| 39.484215206758556|\n",
      "|[2024-12-03 12:00...| NOV| 26.826265389876873|\n",
      "|[2024-12-03 12:00...| RRC|  40.09014648804307|\n",
      "|[2024-12-03 12:00...|  GE| 7.7924812030075215|\n",
      "|[2024-12-03 12:00...|KORS|  5.737158105403598|\n",
      "|[2024-12-03 12:00...| BAX|-0.9252669039145989|\n",
      "|[2024-12-03 12:00...| ALB| 13.573232323232325|\n",
      "|[2024-12-03 12:00...| HAL| 30.132501948558073|\n",
      "|[2024-12-03 12:00...|   F|  6.162790697674411|\n",
      "|[2024-12-03 12:00...| LKQ| 17.842498505678428|\n",
      "|[2024-12-03 12:00...| FLS| 11.005751593346803|\n",
      "|[2024-12-03 12:00...| FOX|-0.5359877488514679|\n",
      "|[2024-12-03 12:00...| FMC|  23.59594383775351|\n",
      "|[2024-12-03 12:00...| BWA| -3.285714285714292|\n",
      "|[2024-12-03 12:00...| CNC|                0.0|\n",
      "+--------------------+----+-------------------+\n",
      "only showing top 20 rows\n",
      "\n"
     ]
    },
    {
     "name": "stderr",
     "output_type": "stream",
     "text": [
      "[Stage 183:====================================================>(199 + 1) / 200]\r"
     ]
    },
    {
     "name": "stdout",
     "output_type": "stream",
     "text": [
      "-------------------------------------------\n",
      "Batch: 13\n",
      "-------------------------------------------\n",
      "+--------------------+-----+-------------------+\n",
      "|              window| name|       value_change|\n",
      "+--------------------+-----+-------------------+\n",
      "|[2024-12-02 20:10...|  GLW|                0.0|\n",
      "|[2024-12-02 20:10...| FFIV|-1.6755096341803937|\n",
      "|[2024-12-02 20:10...| FISV|-1.8656716417910397|\n",
      "|[2024-12-02 20:10...|   PM|  2.424600827912475|\n",
      "|[2024-12-02 20:10...|  NEM| 1.6881028938906677|\n",
      "|[2024-12-02 20:10...|  CHK|   7.60573606825196|\n",
      "|[2024-12-02 20:10...|  KIM|                0.0|\n",
      "|[2024-12-02 20:10...|   GD|                0.0|\n",
      "|[2024-12-02 20:10...|  HON|                0.0|\n",
      "|[2024-12-02 20:10...|   IT|                0.0|\n",
      "|[2024-12-02 20:10...|DISCA|                0.0|\n",
      "|[2024-12-02 20:10...|  FCX|  6.182721501518065|\n",
      "|[2024-12-02 20:10...|  UNM|                0.0|\n",
      "|[2024-12-02 20:10...| NFLX| 1.4204330692635525|\n",
      "|[2024-12-02 20:10...|  EMN|                0.0|\n",
      "|[2024-12-02 20:10...| SPGI|                0.0|\n",
      "|[2024-12-02 20:10...|  DUK|                0.0|\n",
      "|[2024-12-02 20:10...|  UHS|                0.0|\n",
      "|[2024-12-02 20:10...|  CVX|                0.0|\n",
      "|[2024-12-02 20:10...|    O|-0.8128078817733949|\n",
      "+--------------------+-----+-------------------+\n",
      "only showing top 20 rows\n",
      "\n"
     ]
    },
    {
     "name": "stderr",
     "output_type": "stream",
     "text": [
      "                                                                                \r"
     ]
    },
    {
     "name": "stdout",
     "output_type": "stream",
     "text": [
      "-------------------------------------------\n",
      "Batch: 73\n",
      "-------------------------------------------\n",
      "+--------------------+-----+--------------------+\n",
      "|              window| name|        value_change|\n",
      "+--------------------+-----+--------------------+\n",
      "|[2024-12-03 12:00...| FLIR|  3.6684823497547363|\n",
      "|[2024-12-03 12:00...| QCOM|   4.442393883469555|\n",
      "|[2024-12-03 12:00...| WYNN|  12.244276668290315|\n",
      "|[2024-12-03 12:00...|  EQT| -1.4459758798917022|\n",
      "|[2024-12-03 12:00...|   RL|  26.175902950096496|\n",
      "|[2024-12-03 12:00...|  MKC|  -3.078450844091363|\n",
      "|[2024-12-03 12:00...|DISCK|  58.578011849901245|\n",
      "|[2024-12-03 12:00...|  ROK|   -3.85341694577069|\n",
      "|[2024-12-03 12:00...|  APA|  27.837333954789088|\n",
      "|[2024-12-03 12:00...|   FE|   5.389876880984949|\n",
      "|[2024-12-03 12:00...|    F|   5.813953488372093|\n",
      "|[2024-12-03 12:00...|  NWS|  3.7212049616066096|\n",
      "|[2024-12-03 12:00...|  PWR|   7.062706270627064|\n",
      "|[2024-12-03 12:00...|   DE|-0.01116071428571...|\n",
      "|[2024-12-03 12:00...|    A|  2.2727272727272774|\n",
      "|[2024-12-03 12:00...| EQIX| -3.6146221696826353|\n",
      "+--------------------+-----+--------------------+\n",
      "\n"
     ]
    },
    {
     "name": "stderr",
     "output_type": "stream",
     "text": [
      "                                                                                \r"
     ]
    },
    {
     "name": "stdout",
     "output_type": "stream",
     "text": [
      "-------------------------------------------\n",
      "Batch: 14\n",
      "-------------------------------------------\n",
      "+--------------------+-----+-------------------+\n",
      "|              window| name|       value_change|\n",
      "+--------------------+-----+-------------------+\n",
      "|[2024-12-02 20:10...|   GE|                0.0|\n",
      "|[2024-12-02 20:10...| FFIV| 2.9693754072419356|\n",
      "|[2024-12-02 20:10...| EBAY|                0.0|\n",
      "|[2024-12-02 20:10...|   PM|-2.7794204612655338|\n",
      "|[2024-12-02 20:10...|  HIG|                0.0|\n",
      "|[2024-12-02 20:10...|  AMT|                0.0|\n",
      "|[2024-12-02 20:10...|  KIM| -4.156257097433564|\n",
      "|[2024-12-02 20:10...|   GD|-3.2622679654475384|\n",
      "|[2024-12-02 20:10...|  AAL|-0.9340659340659434|\n",
      "|[2024-12-02 20:10...|   IT|  6.933406412715816|\n",
      "|[2024-12-02 20:10...|DISCA| 7.6167374166161315|\n",
      "|[2024-12-02 20:10...|  UNM|  6.846240179573507|\n",
      "|[2024-12-02 20:10...|   WY|  5.882352941176473|\n",
      "|[2024-12-02 20:10...|   LB|                0.0|\n",
      "|[2024-12-02 20:10...|  PCG|-0.0681508405270196|\n",
      "|[2024-12-02 20:10...|   CA|  8.453047028580064|\n",
      "|[2024-12-02 20:10...|  MCD| -4.434108527131789|\n",
      "|[2024-12-02 20:10...|    O| -4.778325123152703|\n",
      "|[2024-12-02 20:10...| CBOE|                0.0|\n",
      "|[2024-12-02 20:10...|  IFF| 0.5850396991224428|\n",
      "+--------------------+-----+-------------------+\n",
      "only showing top 20 rows\n",
      "\n"
     ]
    },
    {
     "name": "stderr",
     "output_type": "stream",
     "text": [
      "[Stage 189:====================================================>(199 + 1) / 200]\r"
     ]
    },
    {
     "name": "stdout",
     "output_type": "stream",
     "text": [
      "-------------------------------------------\n",
      "Batch: 74\n",
      "-------------------------------------------\n",
      "+--------------------+----+-------------------+\n",
      "|              window|name|       value_change|\n",
      "+--------------------+----+-------------------+\n",
      "|[2024-12-03 12:00...| XOM|   5.61168573943661|\n",
      "|[2024-12-03 12:00...| MRK|                0.0|\n",
      "|[2024-12-03 12:00...| NEM| 12.690548780487799|\n",
      "|[2024-12-03 12:00...|  PM|  5.199172087522173|\n",
      "|[2024-12-03 12:00...| SNI| -4.752004752004756|\n",
      "|[2024-12-03 12:00...|  VZ|  8.514147431124346|\n",
      "|[2024-12-03 12:00...| APC|  1.278096077567222|\n",
      "|[2024-12-03 12:00...| NOV| 22.804377564979475|\n",
      "|[2024-12-03 12:00...|CINF| -3.622641509433965|\n",
      "|[2024-12-03 12:00...| LKQ| 22.952779438135085|\n",
      "|[2024-12-03 12:00...|SYMC|-0.4401760704281833|\n",
      "|[2024-12-03 12:00...| BAC| 0.5635566687539127|\n",
      "+--------------------+----+-------------------+\n",
      "\n"
     ]
    },
    {
     "name": "stderr",
     "output_type": "stream",
     "text": [
      "                                                                                \r"
     ]
    },
    {
     "name": "stdout",
     "output_type": "stream",
     "text": [
      "-------------------------------------------\n",
      "Batch: 15\n",
      "-------------------------------------------\n",
      "+--------------------+----+------------------+\n",
      "|              window|name|      value_change|\n",
      "+--------------------+----+------------------+\n",
      "|[2024-12-02 20:15...| TIF|               0.0|\n",
      "|[2024-12-02 20:10...| CMG| 6.134043662916326|\n",
      "|[2024-12-02 20:15...| ADM|               0.0|\n",
      "|[2024-12-02 20:15...|  EL|               0.0|\n",
      "|[2024-12-02 20:10...| HOG|               0.0|\n",
      "|[2024-12-02 20:15...| PPL|               0.0|\n",
      "|[2024-12-02 20:15...| BDX|               0.0|\n",
      "|[2024-12-02 20:15...| RHI|               0.0|\n",
      "|[2024-12-02 20:15...|ULTA|               0.0|\n",
      "|[2024-12-02 20:15...| CVX|               0.0|\n",
      "|[2024-12-02 20:10...|CHRW|-2.752770083102499|\n",
      "|[2024-12-02 20:15...| TWX|               0.0|\n",
      "|[2024-12-02 20:15...| BSX|               0.0|\n",
      "|[2024-12-02 20:15...| BLL|               0.0|\n",
      "|[2024-12-02 20:15...|NFLX|               0.0|\n",
      "|[2024-12-02 20:10...| FCX|3.7537951973502612|\n",
      "|[2024-12-02 20:15...|AAPL|               0.0|\n",
      "|[2024-12-02 20:15...| NEE|               0.0|\n",
      "|[2024-12-02 20:15...| GPN|               0.0|\n",
      "|[2024-12-02 20:15...|ZION|               0.0|\n",
      "+--------------------+----+------------------+\n",
      "only showing top 20 rows\n",
      "\n"
     ]
    },
    {
     "name": "stderr",
     "output_type": "stream",
     "text": [
      "                                                                                \r"
     ]
    },
    {
     "name": "stdout",
     "output_type": "stream",
     "text": [
      "-------------------------------------------\n",
      "Batch: 75\n",
      "-------------------------------------------\n",
      "+--------------------+-----+-------------------+\n",
      "|              window| name|       value_change|\n",
      "+--------------------+-----+-------------------+\n",
      "|[2024-12-03 12:00...|DISCA| 58.630393996247655|\n",
      "|[2024-12-03 12:00...| ISRG| -4.564393090639306|\n",
      "|[2024-12-03 12:00...|  RTN|-4.7141029426237635|\n",
      "|[2024-12-03 12:00...|  XOM|  2.431778169014078|\n",
      "|[2024-12-03 12:00...|  MTB| -4.994877049180323|\n",
      "|[2024-12-03 12:00...| QRVO|                0.0|\n",
      "|[2024-12-03 12:00...|  MRO| 24.110344827586204|\n",
      "|[2024-12-03 12:00...|   PM| -2.554701360141924|\n",
      "|[2024-12-03 12:00...|  ETN| 0.7563864706721664|\n",
      "|[2024-12-03 12:00...|  MAT| 39.884393063583815|\n",
      "|[2024-12-03 12:00...|   PG| -2.725767418163292|\n",
      "|[2024-12-03 12:00...|  OXY|   5.64822270792593|\n",
      "|[2024-12-03 12:00...| NTAP|  10.12503064476588|\n",
      "|[2024-12-03 12:00...|  SYY|0.21609940572664882|\n",
      "|[2024-12-03 12:00...|   GE| -4.135338345864653|\n",
      "|[2024-12-03 12:00...|  HCN| 3.4552434835320236|\n",
      "|[2024-12-03 12:00...| SYMC| 0.8403361344537708|\n",
      "|[2024-12-03 12:00...|   RF|  6.786050895381705|\n",
      "|[2024-12-03 12:00...|    C|-2.0801815431164794|\n",
      "|[2024-12-03 12:00...|   WY| -4.983660130718949|\n",
      "+--------------------+-----+-------------------+\n",
      "\n"
     ]
    },
    {
     "name": "stderr",
     "output_type": "stream",
     "text": [
      "                                                                                \r"
     ]
    },
    {
     "name": "stdout",
     "output_type": "stream",
     "text": [
      "-------------------------------------------\n",
      "Batch: 16\n",
      "-------------------------------------------\n",
      "+--------------------+----+-------------------+\n",
      "|              window|name|       value_change|\n",
      "+--------------------+----+-------------------+\n",
      "|[2024-12-02 20:15...| SRE|                0.0|\n",
      "|[2024-12-02 20:15...| AIG|                0.0|\n",
      "|[2024-12-02 20:15...| DPS|                0.0|\n",
      "|[2024-12-02 20:15...| OMC|                0.0|\n",
      "|[2024-12-02 20:15...| TJX|  2.288828337874656|\n",
      "|[2024-12-02 20:15...| NOV|                0.0|\n",
      "|[2024-12-02 20:15...|  EW|                0.0|\n",
      "|[2024-12-02 20:15...| PPL| 1.1818968002306043|\n",
      "|[2024-12-02 20:15...| BDX|-1.5425259928413178|\n",
      "|[2024-12-02 20:15...|ESRX|                0.0|\n",
      "|[2024-12-02 20:15...| JPM|                0.0|\n",
      "|[2024-12-02 20:15...|  LB|                0.0|\n",
      "|[2024-12-02 20:15...| BSX| 1.9157088122605364|\n",
      "|[2024-12-02 20:15...| BLL| -3.293120313009449|\n",
      "|[2024-12-02 20:15...|   D|                0.0|\n",
      "|[2024-12-02 20:15...| DRE|                0.0|\n",
      "|[2024-12-02 20:15...|CDNS|                0.0|\n",
      "|[2024-12-02 20:15...|   C|                0.0|\n",
      "|[2024-12-02 20:15...|NAVI|                0.0|\n",
      "|[2024-12-02 20:15...| BEN|-0.9002770083102548|\n",
      "+--------------------+----+-------------------+\n",
      "only showing top 20 rows\n",
      "\n"
     ]
    },
    {
     "name": "stderr",
     "output_type": "stream",
     "text": [
      "                                                                                \r"
     ]
    },
    {
     "name": "stdout",
     "output_type": "stream",
     "text": [
      "-------------------------------------------\n",
      "Batch: 76\n",
      "-------------------------------------------\n",
      "+--------------------+----+-------------------+\n",
      "|              window|name|       value_change|\n",
      "+--------------------+----+-------------------+\n",
      "|[2024-12-03 12:00...| GWW| -4.032011195172082|\n",
      "|[2024-12-03 12:00...|QCOM| 10.862114421302392|\n",
      "|[2024-12-03 12:00...|   K|  5.595080847187421|\n",
      "|[2024-12-03 12:00...| PVH| 10.813767567112677|\n",
      "|[2024-12-03 12:00...|  SO| 11.348326251425007|\n",
      "|[2024-12-03 12:00...| MAT| 40.862605602489985|\n",
      "|[2024-12-03 12:00...| CTL|-1.2561274509803817|\n",
      "|[2024-12-03 12:00...| OXY|   9.57091913033476|\n",
      "|[2024-12-03 12:00...| APC|  7.624504186866463|\n",
      "|[2024-12-03 12:00...| SCG|   4.16529701807935|\n",
      "|[2024-12-03 12:00...|  GE|-3.6842105263157774|\n",
      "|[2024-12-03 12:00...| NBL| 27.517753389283417|\n",
      "|[2024-12-03 12:00...| COP| -2.309431524547803|\n",
      "|[2024-12-03 12:00...| HCN|  6.337980736849193|\n",
      "|[2024-12-03 12:00...| DOV|  2.205043720694456|\n",
      "|[2024-12-03 12:00...| CPB|-3.5875402792696063|\n",
      "|[2024-12-03 12:00...|  FE|  6.593707250341989|\n",
      "|[2024-12-03 12:00...| HCP|  28.43045987711786|\n",
      "|[2024-12-03 12:00...| MOS|  0.982366071428558|\n",
      "|[2024-12-03 12:00...|CTXS|  7.210467706013373|\n",
      "+--------------------+----+-------------------+\n",
      "only showing top 20 rows\n",
      "\n"
     ]
    },
    {
     "name": "stderr",
     "output_type": "stream",
     "text": [
      "                                                                                \r"
     ]
    },
    {
     "name": "stdout",
     "output_type": "stream",
     "text": [
      "-------------------------------------------\n",
      "Batch: 17\n",
      "-------------------------------------------\n",
      "+--------------------+----+-------------------+\n",
      "|              window|name|       value_change|\n",
      "+--------------------+----+-------------------+\n",
      "|[2024-12-02 20:15...|PCAR|                0.0|\n",
      "|[2024-12-02 20:15...| IFF|                0.0|\n",
      "|[2024-12-02 20:15...| SRE| 3.4016864699118408|\n",
      "|[2024-12-02 20:15...|ALLE| 0.1350308641975314|\n",
      "|[2024-12-02 20:15...| RJF|                0.0|\n",
      "|[2024-12-02 20:15...|  EL| 3.2577534532186605|\n",
      "|[2024-12-02 20:15...| BDX| 0.8010908471109576|\n",
      "|[2024-12-02 20:15...| RHT|                0.0|\n",
      "|[2024-12-02 20:15...| CSX|                0.0|\n",
      "|[2024-12-02 20:15...| TWX|-2.1321660547867904|\n",
      "|[2024-12-02 20:15...| CLX|                0.0|\n",
      "|[2024-12-02 20:15...| AMT|                0.0|\n",
      "|[2024-12-02 20:15...|VRTX|-0.5357881671493447|\n",
      "|[2024-12-02 20:15...| GPN| 0.5033798360419881|\n",
      "|[2024-12-02 20:15...| DRE|-3.9592760180995437|\n",
      "|[2024-12-02 20:15...|CTXS|                0.0|\n",
      "|[2024-12-02 20:15...| JNJ|                0.0|\n",
      "|[2024-12-02 20:15...|ORLY|                0.0|\n",
      "|[2024-12-02 20:15...| ALL|                0.0|\n",
      "|[2024-12-02 20:15...| KEY|                0.0|\n",
      "+--------------------+----+-------------------+\n",
      "only showing top 20 rows\n",
      "\n"
     ]
    },
    {
     "name": "stderr",
     "output_type": "stream",
     "text": [
      "[Stage 201:============>(197 + 3) / 200][Stage 202:>                (0 + 1) / 1]\r"
     ]
    },
    {
     "name": "stdout",
     "output_type": "stream",
     "text": [
      "-------------------------------------------\n",
      "Batch: 77\n",
      "-------------------------------------------\n",
      "+--------------------+----+--------------------+\n",
      "|              window|name|        value_change|\n",
      "+--------------------+----+--------------------+\n",
      "|[2024-12-03 12:00...|GOOG|  -4.691832369484274|\n",
      "|[2024-12-03 12:00...|PBCT|                 0.0|\n",
      "|[2024-12-03 12:00...| COG|  18.970391310816833|\n",
      "|[2024-12-03 12:00...| PVH|   2.692922662627285|\n",
      "|[2024-12-03 12:00...|KLAC|   0.614790093096788|\n",
      "|[2024-12-03 12:00...| PPL| -3.6829990134824104|\n",
      "|[2024-12-03 12:00...| STX|  22.681929681112013|\n",
      "|[2024-12-03 12:00...| SPG|-0.45701228220507445|\n",
      "|[2024-12-03 12:00...| COP|   3.488372093023262|\n",
      "|[2024-12-03 12:00...|  IP|   3.440553745928334|\n",
      "|[2024-12-03 12:00...|   F|  13.604651162790699|\n",
      "|[2024-12-03 12:00...| FLS|  15.607026270791232|\n",
      "|[2024-12-03 12:00...| OKE|   28.10630613945735|\n",
      "|[2024-12-03 12:00...|  RF|   6.032045240339292|\n",
      "|[2024-12-03 12:00...| CAT|   1.321222130470674|\n",
      "|[2024-12-03 12:00...| TPR|   8.540740942670999|\n",
      "|[2024-12-03 12:00...| LUK|    8.99412628487518|\n",
      "+--------------------+----+--------------------+\n",
      "\n"
     ]
    },
    {
     "name": "stderr",
     "output_type": "stream",
     "text": [
      "                                                                                \r"
     ]
    },
    {
     "name": "stdout",
     "output_type": "stream",
     "text": [
      "-------------------------------------------\n",
      "Batch: 18\n",
      "-------------------------------------------\n",
      "+--------------------+----+--------------------+\n",
      "|              window|name|        value_change|\n",
      "+--------------------+----+--------------------+\n",
      "|[2024-12-02 20:15...|ALLE| -1.0030864197530787|\n",
      "|[2024-12-02 20:15...|CTSH|                 0.0|\n",
      "|[2024-12-02 20:15...| ALB|                 0.0|\n",
      "|[2024-12-02 20:15...| ADI|                 0.0|\n",
      "|[2024-12-02 20:15...| JPM| -3.8994800693240896|\n",
      "|[2024-12-02 20:15...|VRTX|    2.25486139842781|\n",
      "|[2024-12-02 20:15...| PCG|                 0.0|\n",
      "|[2024-12-02 20:15...| WAT|                 0.0|\n",
      "|[2024-12-02 20:15...|ZION| -3.1446540880503098|\n",
      "|[2024-12-02 20:15...|FITB|                 0.0|\n",
      "|[2024-12-02 20:15...| VAR|                 0.0|\n",
      "|[2024-12-02 20:15...|  NI|                 0.0|\n",
      "|[2024-12-02 20:15...| SLB|  -2.526547052361777|\n",
      "|[2024-12-02 20:15...| JNJ|-0.13504388926401134|\n",
      "|[2024-12-02 20:15...| KMB|  3.8499068570921704|\n",
      "|[2024-12-02 20:15...|AKAM|                 0.0|\n",
      "|[2024-12-02 20:15...|KLAC|                 0.0|\n",
      "|[2024-12-02 20:15...| ECL| -3.2722396066160133|\n",
      "|[2024-12-02 20:15...| HCP| -4.7027930293626135|\n",
      "|[2024-12-02 20:15...| CBG|                 0.0|\n",
      "+--------------------+----+--------------------+\n",
      "only showing top 20 rows\n",
      "\n"
     ]
    },
    {
     "name": "stderr",
     "output_type": "stream",
     "text": [
      "                                                                                \r"
     ]
    },
    {
     "name": "stdout",
     "output_type": "stream",
     "text": [
      "-------------------------------------------\n",
      "Batch: 78\n",
      "-------------------------------------------\n",
      "+--------------------+----+-------------------+\n",
      "|              window|name|       value_change|\n",
      "+--------------------+----+-------------------+\n",
      "|[2024-12-03 12:00...| KSU|  9.861607552011737|\n",
      "|[2024-12-03 12:00...|PBCT|-1.0097919216646216|\n",
      "|[2024-12-03 12:00...| COG| 23.820859991072744|\n",
      "|[2024-12-03 12:00...| DVN|  16.33726201269265|\n",
      "|[2024-12-03 12:00...| MRO|  51.77931034482759|\n",
      "|[2024-12-03 12:00...| CVX| 26.166723030098076|\n",
      "|[2024-12-03 12:00...| PVH| 2.5835226794580435|\n",
      "|[2024-12-03 12:00...| CHK| 56.891191709844556|\n",
      "|[2024-12-03 12:00...| EXC|  7.912412681354112|\n",
      "|[2024-12-03 12:00...|  PX|-1.1112083296876332|\n",
      "|[2024-12-03 12:00...| MAT|  49.71098265895953|\n",
      "|[2024-12-03 12:00...| BEN| 2.8009084027252116|\n",
      "|[2024-12-03 12:00...| JEC|  24.96033844526705|\n",
      "|[2024-12-03 12:00...| STX| 17.497955846279634|\n",
      "|[2024-12-03 12:00...| XRX| -4.356243949661174|\n",
      "|[2024-12-03 12:00...|NAVI|  2.587281795511217|\n",
      "|[2024-12-03 12:00...| HSY|  4.538890035073233|\n",
      "|[2024-12-03 12:00...| APA| 43.264973199720345|\n",
      "|[2024-12-03 12:00...|  IP|   6.77931596091205|\n",
      "|[2024-12-03 12:00...|TRIP| 0.6992066693559368|\n",
      "+--------------------+----+-------------------+\n",
      "only showing top 20 rows\n",
      "\n"
     ]
    },
    {
     "name": "stderr",
     "output_type": "stream",
     "text": [
      "                                                                                \r"
     ]
    },
    {
     "name": "stdout",
     "output_type": "stream",
     "text": [
      "-------------------------------------------\n",
      "Batch: 19\n",
      "-------------------------------------------\n",
      "+--------------------+----+--------------------+\n",
      "|              window|name|        value_change|\n",
      "+--------------------+----+--------------------+\n",
      "|[2024-12-02 20:15...| IFF|   5.342269028243177|\n",
      "|[2024-12-02 20:15...|  GM|                 0.0|\n",
      "|[2024-12-02 20:15...| ARE|                 0.0|\n",
      "|[2024-12-02 20:15...|HOLX|                 0.0|\n",
      "|[2024-12-02 20:15...|CTSH|-0.44395116537181545|\n",
      "|[2024-12-02 20:15...| APD|                 0.0|\n",
      "|[2024-12-02 20:15...| UAA|                 0.0|\n",
      "|[2024-12-02 20:15...| AFL|                 0.0|\n",
      "|[2024-12-02 20:15...| TSS|                 0.0|\n",
      "|[2024-12-02 20:15...| CMA|                 0.0|\n",
      "|[2024-12-02 20:15...| NEE|   2.847743394674613|\n",
      "|[2024-12-02 20:15...| GWW|                 0.0|\n",
      "|[2024-12-02 20:15...| WAT|  5.1262211045555635|\n",
      "|[2024-12-02 20:15...| APA| -2.4876157656687514|\n",
      "|[2024-12-02 20:15...| EQT|                 0.0|\n",
      "|[2024-12-02 20:15...|NAVI| 0.22333891680624873|\n",
      "|[2024-12-02 20:15...| EQR|                 0.0|\n",
      "|[2024-12-02 20:15...| VAR|   5.969799836123151|\n",
      "|[2024-12-02 20:15...|JBHT|  0.2507811766599134|\n",
      "|[2024-12-02 20:15...|  MO|                 0.0|\n",
      "+--------------------+----+--------------------+\n",
      "only showing top 20 rows\n",
      "\n"
     ]
    },
    {
     "name": "stderr",
     "output_type": "stream",
     "text": [
      "                                                                                \r"
     ]
    },
    {
     "name": "stdout",
     "output_type": "stream",
     "text": [
      "-------------------------------------------\n",
      "Batch: 79\n",
      "-------------------------------------------\n",
      "+--------------------+----+--------------------+\n",
      "|              window|name|        value_change|\n",
      "+--------------------+----+--------------------+\n",
      "|[2024-12-03 12:00...| VNO| -3.2988283471732522|\n",
      "|[2024-12-03 12:00...| GPS|  19.729860106126385|\n",
      "|[2024-12-03 12:00...| FTI|  34.615384615384606|\n",
      "|[2024-12-03 12:00...|QCOM|  27.036646453994194|\n",
      "|[2024-12-03 12:00...|   K|  -1.434752903666602|\n",
      "|[2024-12-03 12:00...| STT|  -4.302627779382023|\n",
      "|[2024-12-03 12:00...|QRVO|   35.28161270616982|\n",
      "|[2024-12-03 12:00...|  IR|   7.413010590015134|\n",
      "|[2024-12-03 12:00...| NEM|   37.91920731707317|\n",
      "|[2024-12-03 12:00...| PVH|  3.8289994109231653|\n",
      "|[2024-12-03 12:00...|FOXA|-0.07145409074670642|\n",
      "|[2024-12-03 12:00...|   L|  18.737497221604798|\n",
      "|[2024-12-03 12:00...|  PG|  10.007897083174125|\n",
      "|[2024-12-03 12:00...|NTAP|   20.37264035302771|\n",
      "|[2024-12-03 12:00...| MON|  11.515594987652065|\n",
      "|[2024-12-03 12:00...| JEC|   28.18614489687995|\n",
      "|[2024-12-03 12:00...|  BA|  1.2239719382043546|\n",
      "|[2024-12-03 12:00...| VTR|    9.15208613728129|\n",
      "|[2024-12-03 12:00...|  WU|  -3.348214285714274|\n",
      "|[2024-12-03 12:00...| JCI|  -4.502849491337217|\n",
      "+--------------------+----+--------------------+\n",
      "only showing top 20 rows\n",
      "\n"
     ]
    },
    {
     "name": "stderr",
     "output_type": "stream",
     "text": [
      "                                                                                \r"
     ]
    },
    {
     "name": "stdout",
     "output_type": "stream",
     "text": [
      "-------------------------------------------\n",
      "Batch: 20\n",
      "-------------------------------------------\n",
      "+--------------------+----+-------------------+\n",
      "|              window|name|       value_change|\n",
      "+--------------------+----+-------------------+\n",
      "|[2024-12-02 20:15...|PCAR|  9.140369967355815|\n",
      "|[2024-12-02 20:15...| ESS|                0.0|\n",
      "|[2024-12-02 20:15...| UTX|                0.0|\n",
      "|[2024-12-02 20:15...| LYB|                0.0|\n",
      "|[2024-12-02 20:15...| AIG|  9.700652222397512|\n",
      "|[2024-12-02 20:15...| LUV|                0.0|\n",
      "|[2024-12-02 20:15...| MET|                0.0|\n",
      "|[2024-12-02 20:15...|ARNC|                0.0|\n",
      "|[2024-12-02 20:15...|  GS|                0.0|\n",
      "|[2024-12-02 20:15...| CMA|   4.87852283770652|\n",
      "|[2024-12-02 20:15...| GPS|  8.459504926700303|\n",
      "|[2024-12-02 20:15...| APA| 21.505492138703424|\n",
      "|[2024-12-02 20:15...| VAR|  6.192204143743423|\n",
      "|[2024-12-02 20:15...| AMP|  1.308698999230178|\n",
      "|[2024-12-02 20:15...| NOC|-2.3265918786538218|\n",
      "|[2024-12-02 20:15...|  PH| -3.631058518398447|\n",
      "|[2024-12-02 20:15...| KEY|  7.244825124910783|\n",
      "|[2024-12-02 20:15...|ABBV|                0.0|\n",
      "|[2024-12-02 20:15...|DLTR|                0.0|\n",
      "|[2024-12-02 20:15...| PRU| 2.9976423038059816|\n",
      "+--------------------+----+-------------------+\n",
      "only showing top 20 rows\n",
      "\n"
     ]
    },
    {
     "name": "stderr",
     "output_type": "stream",
     "text": [
      "                                                                                \r"
     ]
    },
    {
     "name": "stdout",
     "output_type": "stream",
     "text": [
      "-------------------------------------------\n",
      "Batch: 80\n",
      "-------------------------------------------\n",
      "+--------------------+----+--------------------+\n",
      "|              window|name|        value_change|\n",
      "+--------------------+----+--------------------+\n",
      "|[2024-12-03 12:00...|QCOM|   28.81624044292117|\n",
      "|[2024-12-03 12:00...|QRVO|   37.92302993280391|\n",
      "|[2024-12-03 12:00...| KMI|  16.952186141651758|\n",
      "|[2024-12-03 12:00...| EXC|  17.490596453519608|\n",
      "|[2024-12-03 12:00...|  PX|   6.807244728322688|\n",
      "|[2024-12-03 12:00...| ETN|   20.82203510774939|\n",
      "|[2024-12-03 12:00...| CTL|  22.794117647058826|\n",
      "|[2024-12-03 12:00...|EBAY|  52.898019075568605|\n",
      "|[2024-12-03 12:00...|  VZ|  17.516753536857777|\n",
      "|[2024-12-03 12:00...| APC|   20.38342882327016|\n",
      "|[2024-12-03 12:00...| FCX|   63.86972122550373|\n",
      "|[2024-12-03 12:00...| STX|  19.443990188062145|\n",
      "|[2024-12-03 12:00...| AMG|  -3.543030869971938|\n",
      "|[2024-12-03 12:00...| XRX|-0.09680542110357973|\n",
      "|[2024-12-03 12:00...| APA|   46.03821952924726|\n",
      "|[2024-12-03 12:00...| HAL|   41.10678098207327|\n",
      "|[2024-12-03 12:00...|  IP|  21.518729641693813|\n",
      "|[2024-12-03 12:00...|  FE|  10.889192886456902|\n",
      "|[2024-12-03 12:00...| OKE|  27.641448282248355|\n",
      "|[2024-12-03 12:00...|XLNX|   -4.26882661996498|\n",
      "+--------------------+----+--------------------+\n",
      "only showing top 20 rows\n",
      "\n"
     ]
    },
    {
     "name": "stderr",
     "output_type": "stream",
     "text": [
      "                                                                                \r"
     ]
    },
    {
     "name": "stdout",
     "output_type": "stream",
     "text": [
      "-------------------------------------------\n",
      "Batch: 21\n",
      "-------------------------------------------\n",
      "+--------------------+----+------------------+\n",
      "|              window|name|      value_change|\n",
      "+--------------------+----+------------------+\n",
      "|[2024-12-02 20:20...| CVX|               0.0|\n",
      "|[2024-12-02 20:15...| LYB|1.6130839027668844|\n",
      "|[2024-12-02 20:20...|  MO|               0.0|\n",
      "|[2024-12-02 20:20...|   C|               0.0|\n",
      "|[2024-12-02 20:20...| LMT|               0.0|\n",
      "|[2024-12-02 20:20...| GPN|               0.0|\n",
      "|[2024-12-02 20:20...|VRSN|               0.0|\n",
      "|[2024-12-02 20:20...| SWK|               0.0|\n",
      "|[2024-12-02 20:20...|IDXX|               0.0|\n",
      "|[2024-12-02 20:15...| DHR|               0.0|\n",
      "|[2024-12-02 20:20...| FTI|               0.0|\n",
      "|[2024-12-02 20:20...| AIZ|               0.0|\n",
      "|[2024-12-02 20:20...| PNR|               0.0|\n",
      "|[2024-12-02 20:15...| FDX|               0.0|\n",
      "|[2024-12-02 20:20...| ZBH|               0.0|\n",
      "|[2024-12-02 20:20...| WAT|               0.0|\n",
      "|[2024-12-02 20:20...| BDX|               0.0|\n",
      "|[2024-12-02 20:20...|MCHP|               0.0|\n",
      "|[2024-12-02 20:20...|   A|               0.0|\n",
      "|[2024-12-02 20:20...|PDCO|               0.0|\n",
      "+--------------------+----+------------------+\n",
      "only showing top 20 rows\n",
      "\n"
     ]
    },
    {
     "name": "stderr",
     "output_type": "stream",
     "text": [
      "                                                                                \r"
     ]
    },
    {
     "name": "stdout",
     "output_type": "stream",
     "text": [
      "-------------------------------------------\n",
      "Batch: 81\n",
      "-------------------------------------------\n",
      "+--------------------+----+-------------------+\n",
      "|              window|name|       value_change|\n",
      "+--------------------+----+-------------------+\n",
      "|[2024-12-03 12:00...|JBHT|-2.2448979591836813|\n",
      "|[2024-12-03 12:00...| MRK|  4.268218746210741|\n",
      "|[2024-12-03 12:00...| XOM|  9.154929577464783|\n",
      "|[2024-12-03 12:00...| DVN| 14.814143245693568|\n",
      "|[2024-12-03 12:00...| CFG|  1.519999999999996|\n",
      "|[2024-12-03 12:00...| CHK|  60.20725388601037|\n",
      "|[2024-12-03 12:00...| KEY|-2.8124999999999956|\n",
      "|[2024-12-03 12:00...| SNI| 12.800712800712807|\n",
      "|[2024-12-03 12:00...| APC|  32.94402820625827|\n",
      "|[2024-12-03 12:00...| CNP|  26.85810810810811|\n",
      "|[2024-12-03 12:00...| HPQ|                0.0|\n",
      "|[2024-12-03 12:00...|  MU| 20.070600100857284|\n",
      "|[2024-12-03 12:00...| CBS| 15.223955712128841|\n",
      "|[2024-12-03 12:00...|  KO| 1.6260162601625918|\n",
      "|[2024-12-03 12:00...|   F| 13.604651162790699|\n",
      "|[2024-12-03 12:00...| LKQ|  8.846383741781233|\n",
      "|[2024-12-03 12:00...|SYMC|  17.32693077230892|\n",
      "|[2024-12-03 12:00...| JWN|  26.00565047759989|\n",
      "|[2024-12-03 12:00...|   M| 25.114854517611036|\n",
      "|[2024-12-03 12:00...|  DE| 14.430803571428562|\n",
      "+--------------------+----+-------------------+\n",
      "only showing top 20 rows\n",
      "\n"
     ]
    },
    {
     "name": "stderr",
     "output_type": "stream",
     "text": [
      "                                                                                \r"
     ]
    },
    {
     "name": "stdout",
     "output_type": "stream",
     "text": [
      "-------------------------------------------\n",
      "Batch: 22\n",
      "-------------------------------------------\n",
      "+--------------------+----+-------------------+\n",
      "|              window|name|       value_change|\n",
      "+--------------------+----+-------------------+\n",
      "|[2024-12-02 20:20...| TIF|                0.0|\n",
      "|[2024-12-02 20:20...| JPM|                0.0|\n",
      "|[2024-12-02 20:20...|CELG|                0.0|\n",
      "|[2024-12-02 20:20...| PCG|  -3.82938388625593|\n",
      "|[2024-12-02 20:20...| FDX|                0.0|\n",
      "|[2024-12-02 20:20...| USB|                0.0|\n",
      "|[2024-12-02 20:20...| RSG|                0.0|\n",
      "|[2024-12-02 20:20...| GPN|-1.4195395443158747|\n",
      "|[2024-12-02 20:20...|  HP|                0.0|\n",
      "|[2024-12-02 20:20...|  MA|                0.0|\n",
      "|[2024-12-02 20:20...| BAX|                0.0|\n",
      "|[2024-12-02 20:20...| AMT| 3.3277043806496556|\n",
      "|[2024-12-02 20:20...| DOV|                0.0|\n",
      "|[2024-12-02 20:20...| OKE|                0.0|\n",
      "|[2024-12-02 20:20...| COL|                0.0|\n",
      "|[2024-12-02 20:20...| SPG|                0.0|\n",
      "|[2024-12-02 20:20...| PNR| 2.6403116433415064|\n",
      "|[2024-12-02 20:20...| BMY|                0.0|\n",
      "|[2024-12-02 20:20...| ACN|                0.0|\n",
      "|[2024-12-02 20:20...|CBOE|                0.0|\n",
      "+--------------------+----+-------------------+\n",
      "only showing top 20 rows\n",
      "\n"
     ]
    },
    {
     "name": "stderr",
     "output_type": "stream",
     "text": [
      "                                                                                \r"
     ]
    },
    {
     "name": "stdout",
     "output_type": "stream",
     "text": [
      "-------------------------------------------\n",
      "Batch: 82\n",
      "-------------------------------------------\n",
      "+--------------------+-----+-------------------+\n",
      "|              window| name|       value_change|\n",
      "+--------------------+-----+-------------------+\n",
      "|[2024-12-03 12:00...| PYPL|                0.0|\n",
      "|[2024-12-03 12:00...|  GPS|  32.00675349734684|\n",
      "|[2024-12-03 12:00...|    T|  9.339347306977968|\n",
      "|[2024-12-03 12:00...|  DVN|    25.675430643699|\n",
      "|[2024-12-03 12:00...| CERN|-0.4972837442540734|\n",
      "|[2024-12-03 12:00...|  AMP|-0.9014528268860502|\n",
      "|[2024-12-03 12:00...|  OXY| 21.603589094673875|\n",
      "|[2024-12-03 12:00...|  JEC| 24.889829014630706|\n",
      "|[2024-12-03 12:00...|  KHC|                0.0|\n",
      "|[2024-12-03 12:00...|  HPE|                0.0|\n",
      "|[2024-12-03 12:00...|DISCK| 60.592495062541154|\n",
      "|[2024-12-03 12:00...|  XRX| 2.2265246853823855|\n",
      "|[2024-12-03 12:00...| VIAB|   48.6827319265826|\n",
      "|[2024-12-03 12:00...|  COP| 20.526485788113696|\n",
      "|[2024-12-03 12:00...|  OKE|  61.10750995462543|\n",
      "|[2024-12-03 12:00...|  MET|-2.4942360092223805|\n",
      "|[2024-12-03 12:00...|  NUE|  8.394403730846104|\n",
      "|[2024-12-03 12:00...|  HOG|  8.088958866364887|\n",
      "|[2024-12-03 12:00...|    C| 0.5862329803328333|\n",
      "|[2024-12-03 12:00...|  YUM|-3.7521318931210925|\n",
      "+--------------------+-----+-------------------+\n",
      "\n"
     ]
    },
    {
     "name": "stderr",
     "output_type": "stream",
     "text": [
      "                                                                                \r"
     ]
    },
    {
     "name": "stdout",
     "output_type": "stream",
     "text": [
      "-------------------------------------------\n",
      "Batch: 23\n",
      "-------------------------------------------\n",
      "+--------------------+----+-------------------+\n",
      "|              window|name|       value_change|\n",
      "+--------------------+----+-------------------+\n",
      "|[2024-12-02 20:20...| MAT|                0.0|\n",
      "|[2024-12-02 20:20...| CVX| 10.369186779917584|\n",
      "|[2024-12-02 20:20...|   C| 10.981912144702848|\n",
      "|[2024-12-02 20:20...| LMT|-0.7004882190617667|\n",
      "|[2024-12-02 20:20...| GPN| -4.759632589764995|\n",
      "|[2024-12-02 20:20...|  HP| -3.243324785035437|\n",
      "|[2024-12-02 20:20...|   F|                0.0|\n",
      "|[2024-12-02 20:20...|SPGI|-1.8518518518518479|\n",
      "|[2024-12-02 20:20...| BAX| 2.3550475141165044|\n",
      "|[2024-12-02 20:20...| CRM|                0.0|\n",
      "|[2024-12-02 20:20...| PKG|                0.0|\n",
      "|[2024-12-02 20:20...| PHM|                0.0|\n",
      "|[2024-12-02 20:20...|ADBE|                0.0|\n",
      "|[2024-12-02 20:20...| AIZ|  1.040445486518162|\n",
      "|[2024-12-02 20:20...| SPG| -3.749241044323025|\n",
      "|[2024-12-02 20:20...| BWA|                0.0|\n",
      "|[2024-12-02 20:20...| ZTS|                0.0|\n",
      "|[2024-12-02 20:20...| BMY| -3.143933191419685|\n",
      "|[2024-12-02 20:20...| HAS|                0.0|\n",
      "|[2024-12-02 20:20...| HRS| 3.7343254788480005|\n",
      "+--------------------+----+-------------------+\n",
      "only showing top 20 rows\n",
      "\n"
     ]
    },
    {
     "name": "stderr",
     "output_type": "stream",
     "text": [
      "                                                                                \r"
     ]
    },
    {
     "name": "stdout",
     "output_type": "stream",
     "text": [
      "-------------------------------------------\n",
      "Batch: 83\n",
      "-------------------------------------------\n",
      "+--------------------+----+-------------------+\n",
      "|              window|name|       value_change|\n",
      "+--------------------+----+-------------------+\n",
      "|[2024-12-03 12:00...|FLIR|  8.152517379397512|\n",
      "|[2024-12-03 12:00...| WDC| 10.752044683822064|\n",
      "|[2024-12-03 12:00...| FLR|  18.66570760654559|\n",
      "|[2024-12-03 12:00...| CXO| -4.113195129976966|\n",
      "|[2024-12-03 12:00...|CSCO| -3.807209396516799|\n",
      "|[2024-12-03 12:00...| STT| 1.3572047357782442|\n",
      "|[2024-12-03 12:00...|WYNN|  62.98709206039942|\n",
      "|[2024-12-03 12:00...| CVX| 29.142712208319242|\n",
      "|[2024-12-03 12:00...|PCAR|  5.338151781104789|\n",
      "|[2024-12-03 12:00...| COO| -2.832502571405964|\n",
      "|[2024-12-03 12:00...| EQT| 27.627368939207486|\n",
      "|[2024-12-03 12:00...| COF|  7.770075101097626|\n",
      "|[2024-12-03 12:00...|FOXA|   6.03787066809574|\n",
      "|[2024-12-03 12:00...| PHM|-1.9863438857852282|\n",
      "|[2024-12-03 12:00...|NWSA| 19.065656565656564|\n",
      "|[2024-12-03 12:00...| CTL|  29.84068627450981|\n",
      "|[2024-12-03 12:00...|  PG|-3.6810597376130434|\n",
      "|[2024-12-03 12:00...|  VZ| 15.804169769173496|\n",
      "|[2024-12-03 12:00...| CNP|   20.6081081081081|\n",
      "|[2024-12-03 12:00...| HPQ| 10.132890365448496|\n",
      "+--------------------+----+-------------------+\n",
      "only showing top 20 rows\n",
      "\n"
     ]
    },
    {
     "name": "stderr",
     "output_type": "stream",
     "text": [
      "                                                                                \r"
     ]
    },
    {
     "name": "stdout",
     "output_type": "stream",
     "text": [
      "-------------------------------------------\n",
      "Batch: 24\n",
      "-------------------------------------------\n",
      "+--------------------+----+--------------------+\n",
      "|              window|name|        value_change|\n",
      "+--------------------+----+--------------------+\n",
      "|[2024-12-02 20:20...| TXN|                 0.0|\n",
      "|[2024-12-02 20:20...| FDX| -1.3886517557338784|\n",
      "|[2024-12-02 20:20...| MAC|                 0.0|\n",
      "|[2024-12-02 20:20...|ANDV|                 0.0|\n",
      "|[2024-12-02 20:20...|   F| -0.3717472118959028|\n",
      "|[2024-12-02 20:20...| MOS|                 0.0|\n",
      "|[2024-12-02 20:20...| AIZ|  10.902696365767875|\n",
      "|[2024-12-02 20:20...| LEN|                 0.0|\n",
      "|[2024-12-02 20:20...| SPG|   1.006881198138019|\n",
      "|[2024-12-02 20:20...| PNR|  2.4383205886596415|\n",
      "|[2024-12-02 20:20...| BMY|  2.1450794170623912|\n",
      "|[2024-12-02 20:20...|  FE|   9.830508474576279|\n",
      "|[2024-12-02 20:20...| ABT|-0.29430313222619414|\n",
      "|[2024-12-02 20:20...|FLIR|                 0.0|\n",
      "|[2024-12-02 20:20...| WMT|                 0.0|\n",
      "|[2024-12-02 20:20...|   A| -0.4483246814535104|\n",
      "|[2024-12-02 20:20...| MON|  -3.098778765473116|\n",
      "|[2024-12-02 20:20...| CSX|                 0.0|\n",
      "|[2024-12-02 20:20...| VMC|                 0.0|\n",
      "|[2024-12-02 20:20...|  EW| -1.6308219167767208|\n",
      "+--------------------+----+--------------------+\n",
      "only showing top 20 rows\n",
      "\n"
     ]
    },
    {
     "name": "stderr",
     "output_type": "stream",
     "text": [
      "                                                                                \r"
     ]
    },
    {
     "name": "stdout",
     "output_type": "stream",
     "text": [
      "-------------------------------------------\n",
      "Batch: 84\n",
      "-------------------------------------------\n",
      "+--------------------+-----+-------------------+\n",
      "|              window| name|       value_change|\n",
      "+--------------------+-----+-------------------+\n",
      "|[2024-12-03 12:00...|DISCA|  68.24890556597873|\n",
      "|[2024-12-03 12:00...| PYPL|-3.5448275862068868|\n",
      "|[2024-12-03 12:00...|  KSU|  23.04096783062964|\n",
      "|[2024-12-03 12:00...|  COG|   39.2947478053861|\n",
      "|[2024-12-03 12:00...|  CFG|               19.0|\n",
      "|[2024-12-03 12:00...|  CVX| 26.699357456881973|\n",
      "|[2024-12-03 12:00...|  EMN|  9.740259740259747|\n",
      "|[2024-12-03 12:00...|  TMK| 3.1622023809523734|\n",
      "|[2024-12-03 12:00...|   SO| 0.3212768162503763|\n",
      "|[2024-12-03 12:00...|  WMT|  8.440141805290423|\n",
      "|[2024-12-03 12:00...|  EXC| 14.078452444922082|\n",
      "|[2024-12-03 12:00...| NWSA| 31.313131313131308|\n",
      "|[2024-12-03 12:00...|  PLD|  8.579738245273871|\n",
      "|[2024-12-03 12:00...|  CTL| 3.8909313725490184|\n",
      "|[2024-12-03 12:00...|    L| 17.337186041342527|\n",
      "|[2024-12-03 12:00...|  APC|  54.64962538563244|\n",
      "|[2024-12-03 12:00...| PDCO|-3.9599236641221296|\n",
      "|[2024-12-03 12:00...| AMAT|-4.6734955185659555|\n",
      "|[2024-12-03 12:00...|   GS| -4.210381951587455|\n",
      "|[2024-12-03 12:00...|  JCI| 0.6839323524769088|\n",
      "+--------------------+-----+-------------------+\n",
      "only showing top 20 rows\n",
      "\n"
     ]
    },
    {
     "name": "stderr",
     "output_type": "stream",
     "text": [
      "                                                                                \r"
     ]
    },
    {
     "name": "stdout",
     "output_type": "stream",
     "text": [
      "-------------------------------------------\n",
      "Batch: 25\n",
      "-------------------------------------------\n",
      "+--------------------+-----+-------------------+\n",
      "|              window| name|       value_change|\n",
      "+--------------------+-----+-------------------+\n",
      "|[2024-12-02 20:20...|  APA|                0.0|\n",
      "|[2024-12-02 20:20...|  USB| 1.5716210148181315|\n",
      "|[2024-12-02 20:20...|  RSG|-0.2464875523786084|\n",
      "|[2024-12-02 20:20...|  NFX|                0.0|\n",
      "|[2024-12-02 20:20...| ANDV|   8.27797110619002|\n",
      "|[2024-12-02 20:20...|  LNC|                0.0|\n",
      "|[2024-12-02 20:20...|BRK.B|                0.0|\n",
      "|[2024-12-02 20:20...|  LEN|  -2.11404706155189|\n",
      "|[2024-12-02 20:20...|  CVS|                0.0|\n",
      "|[2024-12-02 20:20...|  BWA| -4.062932226832632|\n",
      "|[2024-12-02 20:20...|  HRB|                0.0|\n",
      "|[2024-12-02 20:20...| XRAY|                0.0|\n",
      "|[2024-12-02 20:20...|  ADI|                0.0|\n",
      "|[2024-12-02 20:20...|  DFS|                0.0|\n",
      "|[2024-12-02 20:20...|  CHD|                0.0|\n",
      "|[2024-12-02 20:20...|  WMT| 5.7219127205199545|\n",
      "|[2024-12-02 20:20...|  SYK| -1.982815598149369|\n",
      "|[2024-12-02 20:20...|  AGN|                0.0|\n",
      "|[2024-12-02 20:20...|  VMC| 1.2183692596063804|\n",
      "|[2024-12-02 20:20...|  PFG|  3.727171077152441|\n",
      "+--------------------+-----+-------------------+\n",
      "only showing top 20 rows\n",
      "\n"
     ]
    },
    {
     "name": "stderr",
     "output_type": "stream",
     "text": [
      "                                                                                \r"
     ]
    },
    {
     "name": "stdout",
     "output_type": "stream",
     "text": [
      "-------------------------------------------\n",
      "Batch: 85\n",
      "-------------------------------------------\n",
      "+--------------------+-----+-------------------+\n",
      "|              window| name|       value_change|\n",
      "+--------------------+-----+-------------------+\n",
      "|[2024-12-03 12:00...|DISCA|  64.31519699812382|\n",
      "|[2024-12-03 12:00...|  MRK|  9.170434270470643|\n",
      "|[2024-12-03 12:00...|  STT| 15.911059774761771|\n",
      "|[2024-12-03 12:00...|   IR|  2.992099512523115|\n",
      "|[2024-12-03 12:00...|  EMN|0.28232636928289506|\n",
      "|[2024-12-03 12:00...|  EQT| 25.104602510460257|\n",
      "|[2024-12-03 12:00...|  AMP| 16.900052511815158|\n",
      "|[2024-12-03 12:00...|  ADM|-3.6997604471652927|\n",
      "|[2024-12-03 12:00...|  BEN| 14.869687466205256|\n",
      "|[2024-12-03 12:00...|  APC| 45.828779197884536|\n",
      "|[2024-12-03 12:00...|  PRU| -2.543731778425663|\n",
      "|[2024-12-03 12:00...|  AES|  9.918319719953328|\n",
      "|[2024-12-03 12:00...|  ALB|-1.5309343434343416|\n",
      "|[2024-12-03 12:00...|  HAL|  45.17537022603274|\n",
      "|[2024-12-03 12:00...|   IP| 19.869706840390876|\n",
      "|[2024-12-03 12:00...|   PH| 3.8364506307090007|\n",
      "|[2024-12-03 12:00...|  BWA|              31.75|\n",
      "|[2024-12-03 12:00...|  HOG| 1.6221216296004815|\n",
      "|[2024-12-03 12:00...|  DFS| 3.1681901279707483|\n",
      "|[2024-12-03 12:00...|   CF| 15.337680362427003|\n",
      "+--------------------+-----+-------------------+\n",
      "only showing top 20 rows\n",
      "\n"
     ]
    },
    {
     "name": "stderr",
     "output_type": "stream",
     "text": [
      "                                                                                \r"
     ]
    },
    {
     "name": "stdout",
     "output_type": "stream",
     "text": [
      "-------------------------------------------\n",
      "Batch: 26\n",
      "-------------------------------------------\n",
      "+--------------------+-----+-------------------+\n",
      "|              window| name|       value_change|\n",
      "+--------------------+-----+-------------------+\n",
      "|[2024-12-02 20:20...|  MCK|                0.0|\n",
      "|[2024-12-02 20:20...|  OXY|                0.0|\n",
      "|[2024-12-02 20:20...|  TXN| 5.0051247010591045|\n",
      "|[2024-12-03 11:35...|  HCP|                0.0|\n",
      "|[2024-12-03 11:35...|  MAC|                0.0|\n",
      "|[2024-12-03 11:35...|   KR|                0.0|\n",
      "|[2024-12-02 20:20...|  FLR|-1.4360533873965222|\n",
      "|[2024-12-02 20:20...| ANDV| 10.133923863756195|\n",
      "|[2024-12-02 20:20...|BRK.B| 0.4732080723729843|\n",
      "|[2024-12-02 20:20...| ALXN|                0.0|\n",
      "|[2024-12-02 20:20...|  AMT|  6.595808085824974|\n",
      "|[2024-12-02 20:20...|  AIZ|  9.144196951934342|\n",
      "|[2024-12-02 20:20...|  CVS|  4.012103306966553|\n",
      "|[2024-12-03 11:35...| ZION|                0.0|\n",
      "|[2024-12-02 20:20...|  HRB|  1.328332551961246|\n",
      "|[2024-12-02 20:20...| CBOE| 10.170680383446339|\n",
      "|[2024-12-03 11:35...|  BBT|                0.0|\n",
      "|[2024-12-02 20:20...|  RTN|                0.0|\n",
      "|[2024-12-02 20:20...| PDCO|0.16771488469602808|\n",
      "|[2024-12-02 20:20...| CHTR|                0.0|\n",
      "+--------------------+-----+-------------------+\n",
      "only showing top 20 rows\n",
      "\n"
     ]
    },
    {
     "name": "stderr",
     "output_type": "stream",
     "text": [
      "                                                                                \r"
     ]
    },
    {
     "name": "stdout",
     "output_type": "stream",
     "text": [
      "-------------------------------------------\n",
      "Batch: 86\n",
      "-------------------------------------------\n",
      "+--------------------+-----+-------------------+\n",
      "|              window| name|       value_change|\n",
      "+--------------------+-----+-------------------+\n",
      "|[2024-12-03 12:00...|  WDC| 12.367843606622786|\n",
      "|[2024-12-03 12:00...|  STT|  10.02021368755415|\n",
      "|[2024-12-03 12:00...| WLTW|-3.2418748979258645|\n",
      "|[2024-12-03 12:00...|   NI|  17.40638002773925|\n",
      "|[2024-12-03 12:00...|  WMT|  4.445050449959101|\n",
      "|[2024-12-03 12:00...| NWSA| 19.255050505050512|\n",
      "|[2024-12-03 12:00...|  CMI| 11.553574127248002|\n",
      "|[2024-12-03 12:00...|   PG|  -4.91020252197171|\n",
      "|[2024-12-03 12:00...| NTAP|   39.1272370679088|\n",
      "|[2024-12-03 12:00...|  FCX|   69.0035881865857|\n",
      "|[2024-12-03 12:00...|  LNC|-0.3365492483733421|\n",
      "|[2024-12-03 12:00...|  STX|  51.18560915780866|\n",
      "|[2024-12-03 12:00...|  JPM| -4.619516562220229|\n",
      "|[2024-12-03 12:00...|DISCK|  63.50230414746544|\n",
      "|[2024-12-03 12:00...| VIAB|  44.88700212261206|\n",
      "|[2024-12-03 12:00...|  BBY|-2.2609227008860437|\n",
      "|[2024-12-03 12:00...|  HSY|  4.219104600783994|\n",
      "|[2024-12-03 12:00...|   IP| 17.345276872964163|\n",
      "|[2024-12-03 12:00...|  HCP|  34.16495997021039|\n",
      "|[2024-12-03 12:00...| NTRS| -2.703881378107282|\n",
      "+--------------------+-----+-------------------+\n",
      "only showing top 20 rows\n",
      "\n"
     ]
    },
    {
     "name": "stderr",
     "output_type": "stream",
     "text": [
      "                                                                                \r"
     ]
    },
    {
     "name": "stdout",
     "output_type": "stream",
     "text": [
      "-------------------------------------------\n",
      "Batch: 27\n",
      "-------------------------------------------\n",
      "+--------------------+----+-------------------+\n",
      "|              window|name|       value_change|\n",
      "+--------------------+----+-------------------+\n",
      "|[2024-12-03 11:35...| PFE|                0.0|\n",
      "|[2024-12-03 11:35...|  EA|                0.0|\n",
      "|[2024-12-03 11:35...|DISH|                0.0|\n",
      "|[2024-12-03 11:35...| UDR|                0.0|\n",
      "|[2024-12-03 11:35...| PXD|-2.6545833667495407|\n",
      "|[2024-12-03 11:35...| ADP|                0.0|\n",
      "|[2024-12-03 11:35...| TSN|                0.0|\n",
      "|[2024-12-03 11:35...| TGT|                0.0|\n",
      "|[2024-12-03 11:35...| DHR|                0.0|\n",
      "|[2024-12-03 11:35...|AKAM|                0.0|\n",
      "|[2024-12-03 11:35...| ACN|                0.0|\n",
      "|[2024-12-03 11:35...| EOG|                0.0|\n",
      "|[2024-12-03 11:35...| YUM|                0.0|\n",
      "|[2024-12-03 11:35...| DFS|   2.51130085384229|\n",
      "|[2024-12-03 11:35...|CHRW|                0.0|\n",
      "|[2024-12-03 11:40...|  RE|                0.0|\n",
      "|[2024-12-03 11:40...| SWK|                0.0|\n",
      "|[2024-12-03 11:40...| NEM|                0.0|\n",
      "|[2024-12-03 11:40...| UNM|                0.0|\n",
      "|[2024-12-03 11:35...| OMC|                0.0|\n",
      "+--------------------+----+-------------------+\n",
      "only showing top 20 rows\n",
      "\n"
     ]
    },
    {
     "name": "stderr",
     "output_type": "stream",
     "text": [
      "                                                                                \r"
     ]
    },
    {
     "name": "stdout",
     "output_type": "stream",
     "text": [
      "-------------------------------------------\n",
      "Batch: 87\n",
      "-------------------------------------------\n",
      "+--------------------+----+-------------------+\n",
      "|              window|name|       value_change|\n",
      "+--------------------+----+-------------------+\n",
      "|[2024-12-03 12:00...| FTI|  47.83773440489858|\n",
      "|[2024-12-03 12:00...|PBCT|  6.487148102815181|\n",
      "|[2024-12-03 12:00...| MTB|0.48668032786885873|\n",
      "|[2024-12-03 12:00...|FOXA| -4.287245444801726|\n",
      "|[2024-12-03 12:00...| CHK|  78.18652849740933|\n",
      "|[2024-12-03 12:00...|TROW|  4.002045774197668|\n",
      "|[2024-12-03 12:00...| WMT|   3.19061903463322|\n",
      "|[2024-12-03 12:00...| ETN|  11.33152561723989|\n",
      "|[2024-12-03 12:00...| MAT| 30.346820809248555|\n",
      "|[2024-12-03 12:00...| CMI| 12.346985038537102|\n",
      "|[2024-12-03 12:00...| ADM|-3.2472717593824827|\n",
      "|[2024-12-03 12:00...| BEN| 22.353195631015467|\n",
      "|[2024-12-03 12:00...|NTAP|  38.42853640598186|\n",
      "|[2024-12-03 12:00...| KSS| 31.350028243268685|\n",
      "|[2024-12-03 12:00...| WYN|  4.867256637168145|\n",
      "|[2024-12-03 12:00...| AMG| 2.8677502338634246|\n",
      "|[2024-12-03 12:00...| AMD|-2.4390243902439157|\n",
      "|[2024-12-03 12:00...| HCN|  1.677106486158826|\n",
      "|[2024-12-03 12:00...| HSY|  4.115948009077775|\n",
      "|[2024-12-03 12:00...| APA|  32.87112561174551|\n",
      "+--------------------+----+-------------------+\n",
      "only showing top 20 rows\n",
      "\n"
     ]
    },
    {
     "name": "stderr",
     "output_type": "stream",
     "text": [
      "                                                                                \r"
     ]
    },
    {
     "name": "stdout",
     "output_type": "stream",
     "text": [
      "-------------------------------------------\n",
      "Batch: 28\n",
      "-------------------------------------------\n",
      "+--------------------+-----+------------+\n",
      "|              window| name|value_change|\n",
      "+--------------------+-----+------------+\n",
      "|[2024-12-03 11:40...| PAYX|         0.0|\n",
      "|[2024-12-03 11:40...|  BMY|         0.0|\n",
      "|[2024-12-03 11:40...|BRK.B|         0.0|\n",
      "|[2024-12-03 11:40...|    T|         0.0|\n",
      "|[2024-12-03 11:40...|  AVY|         0.0|\n",
      "|[2024-12-03 11:40...|  LNT|         0.0|\n",
      "|[2024-12-03 11:40...| TRIP|         0.0|\n",
      "|[2024-12-03 11:40...|   CB|         0.0|\n",
      "|[2024-12-03 11:40...|  PPL|         0.0|\n",
      "|[2024-12-03 11:40...|  XYL|         0.0|\n",
      "|[2024-12-03 11:40...|  LUK|         0.0|\n",
      "|[2024-12-03 11:40...|  WAT|         0.0|\n",
      "|[2024-12-03 11:40...|   MS|         0.0|\n",
      "|[2024-12-03 11:40...|  MPC|         0.0|\n",
      "|[2024-12-03 11:40...|  MGM|         0.0|\n",
      "|[2024-12-03 11:40...|  LLL|         0.0|\n",
      "|[2024-12-03 11:40...|  PEG|         0.0|\n",
      "|[2024-12-03 11:40...|  COG|         0.0|\n",
      "|[2024-12-03 11:40...|  STI|         0.0|\n",
      "|[2024-12-03 11:40...|  EQT|         0.0|\n",
      "+--------------------+-----+------------+\n",
      "only showing top 20 rows\n",
      "\n"
     ]
    }
   ],
   "source": [
    "from pyspark.sql.functions import window, col, first, last\n",
    "import matplotlib.pyplot as plt\n",
    "\n",
    "# Defining the windowed data with appropriate watermark\n",
    "windowed_data = df.withWatermark(\"timestamp\", \"5 minutes\") \\\n",
    "                  .groupBy(window(\"timestamp\", \"5 minutes\"), col(\"name\")) \\\n",
    "                  .agg((((first(df.price) - last(df.price)) / first(df.price)) * 100).alias(\"value_change\"))\n",
    "\n",
    "# Defining the threshold for acceptable percentage change\n",
    "threshold = 5  # A 5% change threshold is used in this example\n",
    "\n",
    "# Filtering the data for stocks that did not lose too much value\n",
    "control_pass = windowed_data.filter(col(\"value_change\") >= -threshold)\n",
    "\n",
    "# Visualization function\n",
    "def visualize_batch(batch_df, epoch_id):\n",
    "    try:\n",
    "        # Collect data for visualization\n",
    "        data = batch_df.collect()\n",
    "        \n",
    "        if data:\n",
    "            names = [row[\"name\"] for row in data]\n",
    "            changes = [row[\"value_change\"] for row in data]\n",
    "\n",
    "            # Plot the data\n",
    "            plt.figure(figsize=(10, 6))\n",
    "            bars = plt.bar(names, changes, color=[\"green\" if change >= 0 else \"red\" for change in changes])\n",
    "            plt.xlabel(\"Stock Name\")\n",
    "            plt.ylabel(\"Percentage Change\")\n",
    "            plt.title(\"Stocks with Percentage Changes\")\n",
    "            plt.xticks(rotation=45)\n",
    "\n",
    "            # Annotate bars with values\n",
    "            for bar, change in zip(bars, changes):\n",
    "                plt.text(bar.get_x() + bar.get_width() / 2.0, bar.get_height(), f\"{change:.2f}%\", ha=\"center\", va=\"bottom\")\n",
    "\n",
    "            plt.tight_layout()\n",
    "            plt.show()\n",
    "        else:\n",
    "            print(\"No data to visualize for this batch.\")\n",
    "    except Exception as e:\n",
    "        print(f\"Error during visualization: {e}\")\n",
    "\n",
    "# Starting the streaming query\n",
    "query = control_pass.writeStream \\\n",
    "                .outputMode(\"update\") \\\n",
    "                .foreachBatch(visualize_batch) \\\n",
    "                .format(\"console\") \\\n",
    "                .start()\n",
    "\n",
    "query.awaitTermination()\n"
   ]
  },
  {
   "cell_type": "markdown",
   "id": "66ea6cac",
   "metadata": {},
   "source": [
    "## Bonus(Influx db & Gafana)"
   ]
  },
  {
   "cell_type": "code",
   "execution_count": 8,
   "id": "c3a3884d",
   "metadata": {},
   "outputs": [],
   "source": [
    "import hashlib\n",
    "\n",
    "def generate_window_id(window_start):\n",
    "    # This function assumes window_start is a string like '2023-10-29 14:40:00'\n",
    "    # Replace non-numeric characters with nothing to create a numeric string\n",
    "    numeric_string = window_start.replace('-', '').replace(' ', '').replace(':', '')\n",
    "    \n",
    "    # Alternatively, use a hash function to generate a shorter, unique identifier\n",
    "    # window_id = hashlib.md5(window_start.encode()).hexdigest()[:8]  # Use the first 8 characters\n",
    "\n",
    "    return numeric_string"
   ]
  },
  {
   "cell_type": "code",
   "execution_count": null,
   "id": "1d1a759b",
   "metadata": {},
   "outputs": [],
   "source": [
    "import influxdb_client\n",
    "from influxdb_client.client.write_api import SYNCHRONOUS\n",
    "from pyspark.sql import Row\n",
    "import time\n",
    "\n",
    "class InfluxDBForeachWriter:\n",
    "    def open(self, partition_id, epoch_id):\n",
    "        self.url = \"http://influxdb:8086\"\n",
    "        self.token = \"uX9_2aP6otzrpPG6XRwZ8LPShIEtFbtiwU2Yya0HfC8fCWyMbHZ7Xm-ivXo7on2MYaPqEEwJL2TAtRU-O_n56A==\"\n",
    "        self.org = \"streaming_practice\"\n",
    "        self.bucket = \"stocks\"\n",
    "        self.client = influxdb_client.InfluxDBClient(\n",
    "            url=self.url,\n",
    "            token=self.token,\n",
    "            org=self.org\n",
    "        )\n",
    "        self.write_api = self.client.write_api(write_options=SYNCHRONOUS)\n",
    "        return True\n",
    "\n",
    "    def process(self, row: Row,window_id:int):\n",
    "        try:\n",
    "            # Convert timestamp to the correct format for InfluxDB (RFC3339)\n",
    "            # Assuming timestamp is a string in the format 'YYYY-MM-DD HH:MM:SS'\n",
    "\n",
    "            window_start_str = row.window.start.strftime('%Y-%m-%d %H:%M:%S')\n",
    "\n",
    "            # Prepare data for InfluxDB\n",
    "            data_point = influxdb_client.Point(\"stock_testing\") \\\n",
    "                .tag(\"name\", str(row.name)) \\\n",
    "                .tag(\"window_id\",window_id) \\\n",
    "                .field(\"avg_price\", float(row.avg_price)) \\\n",
    "                .field(\"window_start\", window_start_str) \\\n",
    "                .time(int(time.time_ns()))  # Use the current time in nanoseconds\n",
    "            print(f\"Attempting to write data point: {data_point.to_line_protocol()}\")\n",
    "\n",
    "            # Write data to InfluxDB\n",
    "            self.write_api.write(bucket=self.bucket, record=data_point)\n",
    "            print(\"Write successful\")\n",
    "        except Exception as e:\n",
    "            print(f\"An error occurred: {e}\")\n",
    "\n",
    "\n",
    "\n",
    "    def close(self, error):\n",
    "        # Close the InfluxDB client\n",
    "        self.write_api.close()\n",
    "        self.client.close()\n",
    "        return True\n"
   ]
  },
  {
   "cell_type": "code",
   "execution_count": null,
   "id": "8ed31413",
   "metadata": {},
   "outputs": [],
   "source": [
    "from pyspark.sql import SparkSession\n",
    "from pyspark.sql.functions import window, col\n",
    "from pyspark.sql import functions as F\n",
    "from pyspark.sql.streaming import DataStreamWriter\n",
    "\n",
    "\n",
    "\n",
    "# Initialize the window_id globally\n",
    "window_id = 0\n",
    "\n",
    "def write_to_influxdb(df, epoch_id):\n",
    "    # Use the global keyword to indicate that you are using the global window_id variable\n",
    "    global window_id\n",
    "\n",
    "    # Instantiate the InfluxDBForeachWriter outside the loop\n",
    "    writer = InfluxDBForeachWriter()\n",
    "\n",
    "    if writer.open(epoch_id, None):  # Open the connection to InfluxDB using the epoch_id\n",
    "        print(window_id)\n",
    "        # Sort by average price and take the top 5\n",
    "        top5_df = df.orderBy(F.desc(\"avg_price\")).limit(5).collect()\n",
    "\n",
    "        for row in top5_df:\n",
    "            try:\n",
    "                # Pass window_id along with the row data\n",
    "                writer.process(row, window_id)\n",
    "            except Exception as e:\n",
    "                print(f\"Error writing to InfluxDB: {e}\")\n",
    "                break  # or continue, depending on your requirement\n",
    "\n",
    "        # Increment window_id for the next batch of data\n",
    "        window_id += 1\n",
    "        writer.close(epoch_id)  # Close the connection after all rows are written\n",
    "    else:\n",
    "        print(\"Failed to open InfluxDB connection\")\n",
    "\n",
    "\n",
    "\n",
    "\n",
    "writer = InfluxDBForeachWriter()\n",
    "\n",
    "windowedDF = df.groupBy(\n",
    "    window(col(\"timestamp\"), \"20 minutes\"),\n",
    "    \"name\"\n",
    ").avg(\"price\").withColumnRenamed(\"avg(price)\", \"avg_price\")\n",
    "\n",
    "# Define the streaming query using foreachBatch\n",
    "topStocksQuery = windowedDF \\\n",
    "    .writeStream \\\n",
    "    .outputMode(\"complete\") \\\n",
    "    .foreachBatch(write_to_influxdb) \\\n",
    "    .start()\n",
    "\n",
    "topStocksQuery.awaitTermination(timeout=50)\n",
    "topStocksQuery.stop()\n"
   ]
  }
 ],
 "metadata": {
  "kernelspec": {
   "display_name": "Python 3 (ipykernel)",
   "language": "python",
   "name": "python3"
  },
  "language_info": {
   "codemirror_mode": {
    "name": "ipython",
    "version": 3
   },
   "file_extension": ".py",
   "mimetype": "text/x-python",
   "name": "python",
   "nbconvert_exporter": "python",
   "pygments_lexer": "ipython3",
   "version": "3.9.2"
  }
 },
 "nbformat": 4,
 "nbformat_minor": 5
}
